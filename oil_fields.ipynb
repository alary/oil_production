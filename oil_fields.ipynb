{
  "nbformat": 4,
  "nbformat_minor": 0,
  "metadata": {
    "kernelspec": {
      "display_name": "Python 3",
      "language": "python",
      "name": "python3"
    },
    "language_info": {
      "codemirror_mode": {
        "name": "ipython",
        "version": 3
      },
      "file_extension": ".py",
      "mimetype": "text/x-python",
      "name": "python",
      "nbconvert_exporter": "python",
      "pygments_lexer": "ipython3",
      "version": "3.7.8"
    },
    "toc": {
      "base_numbering": 1,
      "nav_menu": {},
      "number_sections": true,
      "sideBar": true,
      "skip_h1_title": true,
      "title_cell": "Table of Contents",
      "title_sidebar": "Contents",
      "toc_cell": false,
      "toc_position": {},
      "toc_section_display": true,
      "toc_window_display": false
    },
    "colab": {
      "name": "P8_Выбор места бурения.ipynb",
      "provenance": [],
      "collapsed_sections": []
    }
  },
  "cells": [
    {
      "cell_type": "markdown",
      "metadata": {
        "id": "Msh7htG8cP7V"
      },
      "source": [
        "# Описание проекта"
      ]
    },
    {
      "cell_type": "markdown",
      "metadata": {
        "id": "G8LibURccP7W"
      },
      "source": [
        "Требуется определить где разрабатывать новые нефтяные скважины.\n",
        "\n",
        "Для чего требуется обучить модель, которая поможет выбрать регион, где добыча принесёт наибольшую прибыль. \n",
        "\n",
        "Шаги для выбора локации:\n",
        "\n",
        "- Поиск месторождений в избранном регионе, определение значений признаков для каждого месторождения;\n",
        "- Посторение модели и оценка объём запасов;\n",
        "- Выбор месторождения с самым высокими оценками значений. Количество месторождений зависит от бюджета компании и стоимости разработки одной скважины;\n",
        "- Прибыль равна суммарной прибыли отобранных месторождений."
      ]
    },
    {
      "cell_type": "markdown",
      "metadata": {
        "id": "XbeIXp0KcP7W"
      },
      "source": [
        "## Исходные данные\n",
        "\n",
        "Данные геологоразведки трех регионов. \n",
        "\n",
        "- id - идентификатор скважины\n",
        "- f0, f1, f2 - значимые признака скважины\n",
        "- product - объем запасов в скважине (тыс. баррелей)\n",
        "\n",
        "При разведке региона исследуют 500 точек из которых выбирают 200 самых прибыльных.\n",
        "\n",
        "Бюджет на разработку скважины в регионе - 10 млрд. рублей.\n",
        "\n",
        "Один баррель сырья приносит 450 рублей дохода, доход с еденицы продукта 450 тыс. рублей.\n",
        "\n",
        "## Содержание проекта\n",
        "* 1.Подготовка данных\n",
        " - [1.1 Загрузка библиотек и исходных данных](#1.1-bullet) \n",
        " - [1.2 Подготовка данных для обучения моделей](#1.2-bullet) \n",
        "* 2.Обучение модели для каждого региона\n",
        " - [2.1 Обучение модели для первого региона](#2.1-bullet) \n",
        " - [2.2 Обучение модели для второго региона](#2.2-bullet) \n",
        " - [2.3 Обучение модели для третьего региона](#2.3-bullet) \n",
        " - [2.4 Анализ результатов](#2.4-bullet) \n",
        "* [3.Подготовка к расчету прибыли](#3-bullet) \n",
        "* [4. Расчет прибыли по предсказаниям модели](#4-bullet) \n",
        "* [5. Расчет рисков и прибыли для каждого региона](#5-bullet) \n",
        "* [6. Общий вывод](#6-bullet) \n"
      ]
    },
    {
      "cell_type": "markdown",
      "metadata": {
        "id": "tLMtMv0mcP7X"
      },
      "source": [
        "<div class=\"alert alert-block alert-success\">\n",
        "<b>Комментарий ревьюера:</b> \n",
        "Молодец, что составляешь план.\n",
        "</div>"
      ]
    },
    {
      "cell_type": "markdown",
      "metadata": {
        "id": "MM-WfV9VcP7X"
      },
      "source": [
        "# 1. Загрузка и подготовка данных"
      ]
    },
    {
      "cell_type": "markdown",
      "metadata": {
        "id": "6sU0awUCcP7Y"
      },
      "source": [
        "<a id='1.1-bullet'></a>\n",
        "### 1.1 Загрузка библиотек и исходных данных"
      ]
    },
    {
      "cell_type": "code",
      "metadata": {
        "id": "x2EFcqwQcP7Y"
      },
      "source": [
        "# загрузка библиотех\n",
        "import pandas as pd\n",
        "from sklearn.linear_model import LinearRegression\n",
        "from sklearn.metrics import mean_squared_error\n",
        "from sklearn.model_selection import train_test_split\n",
        "from sklearn.preprocessing import StandardScaler\n",
        "import numpy as np\n",
        "import seaborn as sns\n",
        "import matplotlib as plt\n",
        "\n",
        "# сохраним исходные данные в переменных region_data_1, region_data_2, region_data_3\n",
        "region_data_1 = pd.read_csv('/content/sample_data/geo_data_0.csv')\n",
        "region_data_2 = pd.read_csv('/content/sample_data/geo_data_1.csv')\n",
        "region_data_3 = pd.read_csv('/content/sample_data/geo_data_2.csv')"
      ],
      "execution_count": 1,
      "outputs": []
    },
    {
      "cell_type": "code",
      "metadata": {
        "id": "0y77qOkbcP7Z",
        "colab": {
          "base_uri": "https://localhost:8080/",
          "height": 204
        },
        "outputId": "5e5d62ed-904f-49df-af14-04c009e43837"
      },
      "source": [
        "# просмотрим данные region_data_1\n",
        "region_data_1.head()"
      ],
      "execution_count": 2,
      "outputs": [
        {
          "output_type": "execute_result",
          "data": {
            "text/html": [
              "<div>\n",
              "<style scoped>\n",
              "    .dataframe tbody tr th:only-of-type {\n",
              "        vertical-align: middle;\n",
              "    }\n",
              "\n",
              "    .dataframe tbody tr th {\n",
              "        vertical-align: top;\n",
              "    }\n",
              "\n",
              "    .dataframe thead th {\n",
              "        text-align: right;\n",
              "    }\n",
              "</style>\n",
              "<table border=\"1\" class=\"dataframe\">\n",
              "  <thead>\n",
              "    <tr style=\"text-align: right;\">\n",
              "      <th></th>\n",
              "      <th>id</th>\n",
              "      <th>f0</th>\n",
              "      <th>f1</th>\n",
              "      <th>f2</th>\n",
              "      <th>product</th>\n",
              "    </tr>\n",
              "  </thead>\n",
              "  <tbody>\n",
              "    <tr>\n",
              "      <th>0</th>\n",
              "      <td>txEyH</td>\n",
              "      <td>0.705745</td>\n",
              "      <td>-0.497823</td>\n",
              "      <td>1.221170</td>\n",
              "      <td>105.280062</td>\n",
              "    </tr>\n",
              "    <tr>\n",
              "      <th>1</th>\n",
              "      <td>2acmU</td>\n",
              "      <td>1.334711</td>\n",
              "      <td>-0.340164</td>\n",
              "      <td>4.365080</td>\n",
              "      <td>73.037750</td>\n",
              "    </tr>\n",
              "    <tr>\n",
              "      <th>2</th>\n",
              "      <td>409Wp</td>\n",
              "      <td>1.022732</td>\n",
              "      <td>0.151990</td>\n",
              "      <td>1.419926</td>\n",
              "      <td>85.265647</td>\n",
              "    </tr>\n",
              "    <tr>\n",
              "      <th>3</th>\n",
              "      <td>iJLyR</td>\n",
              "      <td>-0.032172</td>\n",
              "      <td>0.139033</td>\n",
              "      <td>2.978566</td>\n",
              "      <td>168.620776</td>\n",
              "    </tr>\n",
              "    <tr>\n",
              "      <th>4</th>\n",
              "      <td>Xdl7t</td>\n",
              "      <td>1.988431</td>\n",
              "      <td>0.155413</td>\n",
              "      <td>4.751769</td>\n",
              "      <td>154.036647</td>\n",
              "    </tr>\n",
              "  </tbody>\n",
              "</table>\n",
              "</div>"
            ],
            "text/plain": [
              "      id        f0        f1        f2     product\n",
              "0  txEyH  0.705745 -0.497823  1.221170  105.280062\n",
              "1  2acmU  1.334711 -0.340164  4.365080   73.037750\n",
              "2  409Wp  1.022732  0.151990  1.419926   85.265647\n",
              "3  iJLyR -0.032172  0.139033  2.978566  168.620776\n",
              "4  Xdl7t  1.988431  0.155413  4.751769  154.036647"
            ]
          },
          "metadata": {
            "tags": []
          },
          "execution_count": 2
        }
      ]
    },
    {
      "cell_type": "code",
      "metadata": {
        "id": "SvofTiqocP7b",
        "colab": {
          "base_uri": "https://localhost:8080/"
        },
        "outputId": "f7c883d4-e6a3-45f0-fb9b-4e007d9bdc98"
      },
      "source": [
        "# просмотрим информацию о данных region_data_1\n",
        "region_data_1.info()"
      ],
      "execution_count": 3,
      "outputs": [
        {
          "output_type": "stream",
          "text": [
            "<class 'pandas.core.frame.DataFrame'>\n",
            "RangeIndex: 100000 entries, 0 to 99999\n",
            "Data columns (total 5 columns):\n",
            " #   Column   Non-Null Count   Dtype  \n",
            "---  ------   --------------   -----  \n",
            " 0   id       100000 non-null  object \n",
            " 1   f0       100000 non-null  float64\n",
            " 2   f1       100000 non-null  float64\n",
            " 3   f2       100000 non-null  float64\n",
            " 4   product  100000 non-null  float64\n",
            "dtypes: float64(4), object(1)\n",
            "memory usage: 3.8+ MB\n"
          ],
          "name": "stdout"
        }
      ]
    },
    {
      "cell_type": "code",
      "metadata": {
        "id": "G_vrmX07cP7b",
        "colab": {
          "base_uri": "https://localhost:8080/",
          "height": 297
        },
        "outputId": "fb52c03c-907f-4e8f-df0d-f7598bec9a05"
      },
      "source": [
        "# основные статистические характеристики датасета region_data_1\n",
        "region_data_1.describe()"
      ],
      "execution_count": 4,
      "outputs": [
        {
          "output_type": "execute_result",
          "data": {
            "text/html": [
              "<div>\n",
              "<style scoped>\n",
              "    .dataframe tbody tr th:only-of-type {\n",
              "        vertical-align: middle;\n",
              "    }\n",
              "\n",
              "    .dataframe tbody tr th {\n",
              "        vertical-align: top;\n",
              "    }\n",
              "\n",
              "    .dataframe thead th {\n",
              "        text-align: right;\n",
              "    }\n",
              "</style>\n",
              "<table border=\"1\" class=\"dataframe\">\n",
              "  <thead>\n",
              "    <tr style=\"text-align: right;\">\n",
              "      <th></th>\n",
              "      <th>f0</th>\n",
              "      <th>f1</th>\n",
              "      <th>f2</th>\n",
              "      <th>product</th>\n",
              "    </tr>\n",
              "  </thead>\n",
              "  <tbody>\n",
              "    <tr>\n",
              "      <th>count</th>\n",
              "      <td>100000.000000</td>\n",
              "      <td>100000.000000</td>\n",
              "      <td>100000.000000</td>\n",
              "      <td>100000.000000</td>\n",
              "    </tr>\n",
              "    <tr>\n",
              "      <th>mean</th>\n",
              "      <td>0.500419</td>\n",
              "      <td>0.250143</td>\n",
              "      <td>2.502647</td>\n",
              "      <td>92.500000</td>\n",
              "    </tr>\n",
              "    <tr>\n",
              "      <th>std</th>\n",
              "      <td>0.871832</td>\n",
              "      <td>0.504433</td>\n",
              "      <td>3.248248</td>\n",
              "      <td>44.288691</td>\n",
              "    </tr>\n",
              "    <tr>\n",
              "      <th>min</th>\n",
              "      <td>-1.408605</td>\n",
              "      <td>-0.848218</td>\n",
              "      <td>-12.088328</td>\n",
              "      <td>0.000000</td>\n",
              "    </tr>\n",
              "    <tr>\n",
              "      <th>25%</th>\n",
              "      <td>-0.072580</td>\n",
              "      <td>-0.200881</td>\n",
              "      <td>0.287748</td>\n",
              "      <td>56.497507</td>\n",
              "    </tr>\n",
              "    <tr>\n",
              "      <th>50%</th>\n",
              "      <td>0.502360</td>\n",
              "      <td>0.250252</td>\n",
              "      <td>2.515969</td>\n",
              "      <td>91.849972</td>\n",
              "    </tr>\n",
              "    <tr>\n",
              "      <th>75%</th>\n",
              "      <td>1.073581</td>\n",
              "      <td>0.700646</td>\n",
              "      <td>4.715088</td>\n",
              "      <td>128.564089</td>\n",
              "    </tr>\n",
              "    <tr>\n",
              "      <th>max</th>\n",
              "      <td>2.362331</td>\n",
              "      <td>1.343769</td>\n",
              "      <td>16.003790</td>\n",
              "      <td>185.364347</td>\n",
              "    </tr>\n",
              "  </tbody>\n",
              "</table>\n",
              "</div>"
            ],
            "text/plain": [
              "                  f0             f1             f2        product\n",
              "count  100000.000000  100000.000000  100000.000000  100000.000000\n",
              "mean        0.500419       0.250143       2.502647      92.500000\n",
              "std         0.871832       0.504433       3.248248      44.288691\n",
              "min        -1.408605      -0.848218     -12.088328       0.000000\n",
              "25%        -0.072580      -0.200881       0.287748      56.497507\n",
              "50%         0.502360       0.250252       2.515969      91.849972\n",
              "75%         1.073581       0.700646       4.715088     128.564089\n",
              "max         2.362331       1.343769      16.003790     185.364347"
            ]
          },
          "metadata": {
            "tags": []
          },
          "execution_count": 4
        }
      ]
    },
    {
      "cell_type": "code",
      "metadata": {
        "id": "fnDNA-bbcP7c",
        "colab": {
          "base_uri": "https://localhost:8080/",
          "height": 204
        },
        "outputId": "0085939c-7db3-4d58-9fbb-e42076b1cf2f"
      },
      "source": [
        "# просмотрим данные region_data_2\n",
        "region_data_2.head()"
      ],
      "execution_count": 5,
      "outputs": [
        {
          "output_type": "execute_result",
          "data": {
            "text/html": [
              "<div>\n",
              "<style scoped>\n",
              "    .dataframe tbody tr th:only-of-type {\n",
              "        vertical-align: middle;\n",
              "    }\n",
              "\n",
              "    .dataframe tbody tr th {\n",
              "        vertical-align: top;\n",
              "    }\n",
              "\n",
              "    .dataframe thead th {\n",
              "        text-align: right;\n",
              "    }\n",
              "</style>\n",
              "<table border=\"1\" class=\"dataframe\">\n",
              "  <thead>\n",
              "    <tr style=\"text-align: right;\">\n",
              "      <th></th>\n",
              "      <th>id</th>\n",
              "      <th>f0</th>\n",
              "      <th>f1</th>\n",
              "      <th>f2</th>\n",
              "      <th>product</th>\n",
              "    </tr>\n",
              "  </thead>\n",
              "  <tbody>\n",
              "    <tr>\n",
              "      <th>0</th>\n",
              "      <td>kBEdx</td>\n",
              "      <td>-15.001348</td>\n",
              "      <td>-8.276000</td>\n",
              "      <td>-0.005876</td>\n",
              "      <td>3.179103</td>\n",
              "    </tr>\n",
              "    <tr>\n",
              "      <th>1</th>\n",
              "      <td>62mP7</td>\n",
              "      <td>14.272088</td>\n",
              "      <td>-3.475083</td>\n",
              "      <td>0.999183</td>\n",
              "      <td>26.953261</td>\n",
              "    </tr>\n",
              "    <tr>\n",
              "      <th>2</th>\n",
              "      <td>vyE1P</td>\n",
              "      <td>6.263187</td>\n",
              "      <td>-5.948386</td>\n",
              "      <td>5.001160</td>\n",
              "      <td>134.766305</td>\n",
              "    </tr>\n",
              "    <tr>\n",
              "      <th>3</th>\n",
              "      <td>KcrkZ</td>\n",
              "      <td>-13.081196</td>\n",
              "      <td>-11.506057</td>\n",
              "      <td>4.999415</td>\n",
              "      <td>137.945408</td>\n",
              "    </tr>\n",
              "    <tr>\n",
              "      <th>4</th>\n",
              "      <td>AHL4O</td>\n",
              "      <td>12.702195</td>\n",
              "      <td>-8.147433</td>\n",
              "      <td>5.004363</td>\n",
              "      <td>134.766305</td>\n",
              "    </tr>\n",
              "  </tbody>\n",
              "</table>\n",
              "</div>"
            ],
            "text/plain": [
              "      id         f0         f1        f2     product\n",
              "0  kBEdx -15.001348  -8.276000 -0.005876    3.179103\n",
              "1  62mP7  14.272088  -3.475083  0.999183   26.953261\n",
              "2  vyE1P   6.263187  -5.948386  5.001160  134.766305\n",
              "3  KcrkZ -13.081196 -11.506057  4.999415  137.945408\n",
              "4  AHL4O  12.702195  -8.147433  5.004363  134.766305"
            ]
          },
          "metadata": {
            "tags": []
          },
          "execution_count": 5
        }
      ]
    },
    {
      "cell_type": "code",
      "metadata": {
        "id": "vhujnpcBcP7c",
        "colab": {
          "base_uri": "https://localhost:8080/"
        },
        "outputId": "a8e6c31e-c407-46d7-efee-ac41c25094a3"
      },
      "source": [
        "# просмотрим информацию о данных region_data_2\n",
        "region_data_2.info()"
      ],
      "execution_count": 6,
      "outputs": [
        {
          "output_type": "stream",
          "text": [
            "<class 'pandas.core.frame.DataFrame'>\n",
            "RangeIndex: 100000 entries, 0 to 99999\n",
            "Data columns (total 5 columns):\n",
            " #   Column   Non-Null Count   Dtype  \n",
            "---  ------   --------------   -----  \n",
            " 0   id       100000 non-null  object \n",
            " 1   f0       100000 non-null  float64\n",
            " 2   f1       100000 non-null  float64\n",
            " 3   f2       100000 non-null  float64\n",
            " 4   product  100000 non-null  float64\n",
            "dtypes: float64(4), object(1)\n",
            "memory usage: 3.8+ MB\n"
          ],
          "name": "stdout"
        }
      ]
    },
    {
      "cell_type": "code",
      "metadata": {
        "id": "_i5KPoI3cP7d",
        "colab": {
          "base_uri": "https://localhost:8080/",
          "height": 297
        },
        "outputId": "23f8883f-7b60-4bad-f07a-4cc3bde770d4"
      },
      "source": [
        "# основные статистические характеристики датасета region_data_2\n",
        "region_data_2.describe()"
      ],
      "execution_count": 7,
      "outputs": [
        {
          "output_type": "execute_result",
          "data": {
            "text/html": [
              "<div>\n",
              "<style scoped>\n",
              "    .dataframe tbody tr th:only-of-type {\n",
              "        vertical-align: middle;\n",
              "    }\n",
              "\n",
              "    .dataframe tbody tr th {\n",
              "        vertical-align: top;\n",
              "    }\n",
              "\n",
              "    .dataframe thead th {\n",
              "        text-align: right;\n",
              "    }\n",
              "</style>\n",
              "<table border=\"1\" class=\"dataframe\">\n",
              "  <thead>\n",
              "    <tr style=\"text-align: right;\">\n",
              "      <th></th>\n",
              "      <th>f0</th>\n",
              "      <th>f1</th>\n",
              "      <th>f2</th>\n",
              "      <th>product</th>\n",
              "    </tr>\n",
              "  </thead>\n",
              "  <tbody>\n",
              "    <tr>\n",
              "      <th>count</th>\n",
              "      <td>100000.000000</td>\n",
              "      <td>100000.000000</td>\n",
              "      <td>100000.000000</td>\n",
              "      <td>100000.000000</td>\n",
              "    </tr>\n",
              "    <tr>\n",
              "      <th>mean</th>\n",
              "      <td>1.141296</td>\n",
              "      <td>-4.796579</td>\n",
              "      <td>2.494541</td>\n",
              "      <td>68.825000</td>\n",
              "    </tr>\n",
              "    <tr>\n",
              "      <th>std</th>\n",
              "      <td>8.965932</td>\n",
              "      <td>5.119872</td>\n",
              "      <td>1.703572</td>\n",
              "      <td>45.944423</td>\n",
              "    </tr>\n",
              "    <tr>\n",
              "      <th>min</th>\n",
              "      <td>-31.609576</td>\n",
              "      <td>-26.358598</td>\n",
              "      <td>-0.018144</td>\n",
              "      <td>0.000000</td>\n",
              "    </tr>\n",
              "    <tr>\n",
              "      <th>25%</th>\n",
              "      <td>-6.298551</td>\n",
              "      <td>-8.267985</td>\n",
              "      <td>1.000021</td>\n",
              "      <td>26.953261</td>\n",
              "    </tr>\n",
              "    <tr>\n",
              "      <th>50%</th>\n",
              "      <td>1.153055</td>\n",
              "      <td>-4.813172</td>\n",
              "      <td>2.011479</td>\n",
              "      <td>57.085625</td>\n",
              "    </tr>\n",
              "    <tr>\n",
              "      <th>75%</th>\n",
              "      <td>8.621015</td>\n",
              "      <td>-1.332816</td>\n",
              "      <td>3.999904</td>\n",
              "      <td>107.813044</td>\n",
              "    </tr>\n",
              "    <tr>\n",
              "      <th>max</th>\n",
              "      <td>29.421755</td>\n",
              "      <td>18.734063</td>\n",
              "      <td>5.019721</td>\n",
              "      <td>137.945408</td>\n",
              "    </tr>\n",
              "  </tbody>\n",
              "</table>\n",
              "</div>"
            ],
            "text/plain": [
              "                  f0             f1             f2        product\n",
              "count  100000.000000  100000.000000  100000.000000  100000.000000\n",
              "mean        1.141296      -4.796579       2.494541      68.825000\n",
              "std         8.965932       5.119872       1.703572      45.944423\n",
              "min       -31.609576     -26.358598      -0.018144       0.000000\n",
              "25%        -6.298551      -8.267985       1.000021      26.953261\n",
              "50%         1.153055      -4.813172       2.011479      57.085625\n",
              "75%         8.621015      -1.332816       3.999904     107.813044\n",
              "max        29.421755      18.734063       5.019721     137.945408"
            ]
          },
          "metadata": {
            "tags": []
          },
          "execution_count": 7
        }
      ]
    },
    {
      "cell_type": "code",
      "metadata": {
        "id": "fvVfPt4FcP7d",
        "colab": {
          "base_uri": "https://localhost:8080/",
          "height": 204
        },
        "outputId": "f6a50824-5069-4182-d599-8009d7c0344a"
      },
      "source": [
        "# просмотрим данные region_data_3\n",
        "region_data_3.head()"
      ],
      "execution_count": 8,
      "outputs": [
        {
          "output_type": "execute_result",
          "data": {
            "text/html": [
              "<div>\n",
              "<style scoped>\n",
              "    .dataframe tbody tr th:only-of-type {\n",
              "        vertical-align: middle;\n",
              "    }\n",
              "\n",
              "    .dataframe tbody tr th {\n",
              "        vertical-align: top;\n",
              "    }\n",
              "\n",
              "    .dataframe thead th {\n",
              "        text-align: right;\n",
              "    }\n",
              "</style>\n",
              "<table border=\"1\" class=\"dataframe\">\n",
              "  <thead>\n",
              "    <tr style=\"text-align: right;\">\n",
              "      <th></th>\n",
              "      <th>id</th>\n",
              "      <th>f0</th>\n",
              "      <th>f1</th>\n",
              "      <th>f2</th>\n",
              "      <th>product</th>\n",
              "    </tr>\n",
              "  </thead>\n",
              "  <tbody>\n",
              "    <tr>\n",
              "      <th>0</th>\n",
              "      <td>fwXo0</td>\n",
              "      <td>-1.146987</td>\n",
              "      <td>0.963328</td>\n",
              "      <td>-0.828965</td>\n",
              "      <td>27.758673</td>\n",
              "    </tr>\n",
              "    <tr>\n",
              "      <th>1</th>\n",
              "      <td>WJtFt</td>\n",
              "      <td>0.262778</td>\n",
              "      <td>0.269839</td>\n",
              "      <td>-2.530187</td>\n",
              "      <td>56.069697</td>\n",
              "    </tr>\n",
              "    <tr>\n",
              "      <th>2</th>\n",
              "      <td>ovLUW</td>\n",
              "      <td>0.194587</td>\n",
              "      <td>0.289035</td>\n",
              "      <td>-5.586433</td>\n",
              "      <td>62.871910</td>\n",
              "    </tr>\n",
              "    <tr>\n",
              "      <th>3</th>\n",
              "      <td>q6cA6</td>\n",
              "      <td>2.236060</td>\n",
              "      <td>-0.553760</td>\n",
              "      <td>0.930038</td>\n",
              "      <td>114.572842</td>\n",
              "    </tr>\n",
              "    <tr>\n",
              "      <th>4</th>\n",
              "      <td>WPMUX</td>\n",
              "      <td>-0.515993</td>\n",
              "      <td>1.716266</td>\n",
              "      <td>5.899011</td>\n",
              "      <td>149.600746</td>\n",
              "    </tr>\n",
              "  </tbody>\n",
              "</table>\n",
              "</div>"
            ],
            "text/plain": [
              "      id        f0        f1        f2     product\n",
              "0  fwXo0 -1.146987  0.963328 -0.828965   27.758673\n",
              "1  WJtFt  0.262778  0.269839 -2.530187   56.069697\n",
              "2  ovLUW  0.194587  0.289035 -5.586433   62.871910\n",
              "3  q6cA6  2.236060 -0.553760  0.930038  114.572842\n",
              "4  WPMUX -0.515993  1.716266  5.899011  149.600746"
            ]
          },
          "metadata": {
            "tags": []
          },
          "execution_count": 8
        }
      ]
    },
    {
      "cell_type": "code",
      "metadata": {
        "id": "A0mWB73DcP7d",
        "colab": {
          "base_uri": "https://localhost:8080/"
        },
        "outputId": "1b6f5fb3-162c-4741-cec6-422b78d20883"
      },
      "source": [
        "# просмотрим информацию о данных region_data_3\n",
        "region_data_3.info()"
      ],
      "execution_count": 9,
      "outputs": [
        {
          "output_type": "stream",
          "text": [
            "<class 'pandas.core.frame.DataFrame'>\n",
            "RangeIndex: 100000 entries, 0 to 99999\n",
            "Data columns (total 5 columns):\n",
            " #   Column   Non-Null Count   Dtype  \n",
            "---  ------   --------------   -----  \n",
            " 0   id       100000 non-null  object \n",
            " 1   f0       100000 non-null  float64\n",
            " 2   f1       100000 non-null  float64\n",
            " 3   f2       100000 non-null  float64\n",
            " 4   product  100000 non-null  float64\n",
            "dtypes: float64(4), object(1)\n",
            "memory usage: 3.8+ MB\n"
          ],
          "name": "stdout"
        }
      ]
    },
    {
      "cell_type": "code",
      "metadata": {
        "id": "tEKQuaVVcP7e",
        "colab": {
          "base_uri": "https://localhost:8080/",
          "height": 297
        },
        "outputId": "c7f73a7e-6ffa-43f4-b2ab-2a3e834bd7e4"
      },
      "source": [
        "# основные статистические характеристики датасета region_data_3\n",
        "region_data_3.describe()"
      ],
      "execution_count": 10,
      "outputs": [
        {
          "output_type": "execute_result",
          "data": {
            "text/html": [
              "<div>\n",
              "<style scoped>\n",
              "    .dataframe tbody tr th:only-of-type {\n",
              "        vertical-align: middle;\n",
              "    }\n",
              "\n",
              "    .dataframe tbody tr th {\n",
              "        vertical-align: top;\n",
              "    }\n",
              "\n",
              "    .dataframe thead th {\n",
              "        text-align: right;\n",
              "    }\n",
              "</style>\n",
              "<table border=\"1\" class=\"dataframe\">\n",
              "  <thead>\n",
              "    <tr style=\"text-align: right;\">\n",
              "      <th></th>\n",
              "      <th>f0</th>\n",
              "      <th>f1</th>\n",
              "      <th>f2</th>\n",
              "      <th>product</th>\n",
              "    </tr>\n",
              "  </thead>\n",
              "  <tbody>\n",
              "    <tr>\n",
              "      <th>count</th>\n",
              "      <td>100000.000000</td>\n",
              "      <td>100000.000000</td>\n",
              "      <td>100000.000000</td>\n",
              "      <td>100000.000000</td>\n",
              "    </tr>\n",
              "    <tr>\n",
              "      <th>mean</th>\n",
              "      <td>0.002023</td>\n",
              "      <td>-0.002081</td>\n",
              "      <td>2.495128</td>\n",
              "      <td>95.000000</td>\n",
              "    </tr>\n",
              "    <tr>\n",
              "      <th>std</th>\n",
              "      <td>1.732045</td>\n",
              "      <td>1.730417</td>\n",
              "      <td>3.473445</td>\n",
              "      <td>44.749921</td>\n",
              "    </tr>\n",
              "    <tr>\n",
              "      <th>min</th>\n",
              "      <td>-8.760004</td>\n",
              "      <td>-7.084020</td>\n",
              "      <td>-11.970335</td>\n",
              "      <td>0.000000</td>\n",
              "    </tr>\n",
              "    <tr>\n",
              "      <th>25%</th>\n",
              "      <td>-1.162288</td>\n",
              "      <td>-1.174820</td>\n",
              "      <td>0.130359</td>\n",
              "      <td>59.450441</td>\n",
              "    </tr>\n",
              "    <tr>\n",
              "      <th>50%</th>\n",
              "      <td>0.009424</td>\n",
              "      <td>-0.009482</td>\n",
              "      <td>2.484236</td>\n",
              "      <td>94.925613</td>\n",
              "    </tr>\n",
              "    <tr>\n",
              "      <th>75%</th>\n",
              "      <td>1.158535</td>\n",
              "      <td>1.163678</td>\n",
              "      <td>4.858794</td>\n",
              "      <td>130.595027</td>\n",
              "    </tr>\n",
              "    <tr>\n",
              "      <th>max</th>\n",
              "      <td>7.238262</td>\n",
              "      <td>7.844801</td>\n",
              "      <td>16.739402</td>\n",
              "      <td>190.029838</td>\n",
              "    </tr>\n",
              "  </tbody>\n",
              "</table>\n",
              "</div>"
            ],
            "text/plain": [
              "                  f0             f1             f2        product\n",
              "count  100000.000000  100000.000000  100000.000000  100000.000000\n",
              "mean        0.002023      -0.002081       2.495128      95.000000\n",
              "std         1.732045       1.730417       3.473445      44.749921\n",
              "min        -8.760004      -7.084020     -11.970335       0.000000\n",
              "25%        -1.162288      -1.174820       0.130359      59.450441\n",
              "50%         0.009424      -0.009482       2.484236      94.925613\n",
              "75%         1.158535       1.163678       4.858794     130.595027\n",
              "max         7.238262       7.844801      16.739402     190.029838"
            ]
          },
          "metadata": {
            "tags": []
          },
          "execution_count": 10
        }
      ]
    },
    {
      "cell_type": "markdown",
      "metadata": {
        "id": "HLUZz2ZkcP7e"
      },
      "source": [
        "<a id='1.1-bullet'></a>\n",
        "### 1.2 Подготовка данных для обучения моделей"
      ]
    },
    {
      "cell_type": "code",
      "metadata": {
        "id": "bDLFpySMcP7e"
      },
      "source": [
        "# Сохраним признаки каждого датасета в переменной features, а целевые признаки в переменной target\n",
        "\n",
        "# Создадим переменные features_1 и target_1 для первого региона с помощью ф-ии preparation\n",
        "def preparation(data):\n",
        "    f = data.drop(['id','product'], axis=1)\n",
        "    t = data['product']\n",
        "    return f, t\n",
        "\n",
        "features_1, target_1 = preparation(region_data_1)  "
      ],
      "execution_count": 11,
      "outputs": []
    },
    {
      "cell_type": "code",
      "metadata": {
        "id": "vzepPssgcP7f",
        "colab": {
          "base_uri": "https://localhost:8080/",
          "height": 204
        },
        "outputId": "feee4a06-f113-4def-937e-1f219280eb74"
      },
      "source": [
        "# просмотрим полученную выборку features_1\n",
        "features_1.head()"
      ],
      "execution_count": 12,
      "outputs": [
        {
          "output_type": "execute_result",
          "data": {
            "text/html": [
              "<div>\n",
              "<style scoped>\n",
              "    .dataframe tbody tr th:only-of-type {\n",
              "        vertical-align: middle;\n",
              "    }\n",
              "\n",
              "    .dataframe tbody tr th {\n",
              "        vertical-align: top;\n",
              "    }\n",
              "\n",
              "    .dataframe thead th {\n",
              "        text-align: right;\n",
              "    }\n",
              "</style>\n",
              "<table border=\"1\" class=\"dataframe\">\n",
              "  <thead>\n",
              "    <tr style=\"text-align: right;\">\n",
              "      <th></th>\n",
              "      <th>f0</th>\n",
              "      <th>f1</th>\n",
              "      <th>f2</th>\n",
              "    </tr>\n",
              "  </thead>\n",
              "  <tbody>\n",
              "    <tr>\n",
              "      <th>0</th>\n",
              "      <td>0.705745</td>\n",
              "      <td>-0.497823</td>\n",
              "      <td>1.221170</td>\n",
              "    </tr>\n",
              "    <tr>\n",
              "      <th>1</th>\n",
              "      <td>1.334711</td>\n",
              "      <td>-0.340164</td>\n",
              "      <td>4.365080</td>\n",
              "    </tr>\n",
              "    <tr>\n",
              "      <th>2</th>\n",
              "      <td>1.022732</td>\n",
              "      <td>0.151990</td>\n",
              "      <td>1.419926</td>\n",
              "    </tr>\n",
              "    <tr>\n",
              "      <th>3</th>\n",
              "      <td>-0.032172</td>\n",
              "      <td>0.139033</td>\n",
              "      <td>2.978566</td>\n",
              "    </tr>\n",
              "    <tr>\n",
              "      <th>4</th>\n",
              "      <td>1.988431</td>\n",
              "      <td>0.155413</td>\n",
              "      <td>4.751769</td>\n",
              "    </tr>\n",
              "  </tbody>\n",
              "</table>\n",
              "</div>"
            ],
            "text/plain": [
              "         f0        f1        f2\n",
              "0  0.705745 -0.497823  1.221170\n",
              "1  1.334711 -0.340164  4.365080\n",
              "2  1.022732  0.151990  1.419926\n",
              "3 -0.032172  0.139033  2.978566\n",
              "4  1.988431  0.155413  4.751769"
            ]
          },
          "metadata": {
            "tags": []
          },
          "execution_count": 12
        }
      ]
    },
    {
      "cell_type": "code",
      "metadata": {
        "id": "io68SUHlcP7f",
        "colab": {
          "base_uri": "https://localhost:8080/"
        },
        "outputId": "a39df861-533c-47b5-e48a-a288655df3a1"
      },
      "source": [
        "# просмотрим полученную выборку target_1\n",
        "target_1.head()"
      ],
      "execution_count": 13,
      "outputs": [
        {
          "output_type": "execute_result",
          "data": {
            "text/plain": [
              "0    105.280062\n",
              "1     73.037750\n",
              "2     85.265647\n",
              "3    168.620776\n",
              "4    154.036647\n",
              "Name: product, dtype: float64"
            ]
          },
          "metadata": {
            "tags": []
          },
          "execution_count": 13
        }
      ]
    },
    {
      "cell_type": "code",
      "metadata": {
        "id": "DKodZ9g2cP7f"
      },
      "source": [
        "# Создадим переменные features_2 и target_2 для второго региона с помощью ф-ии preparation\n",
        "features_2, target_2 = preparation(region_data_2)"
      ],
      "execution_count": 14,
      "outputs": []
    },
    {
      "cell_type": "code",
      "metadata": {
        "id": "-FNF9e0rcP7f",
        "colab": {
          "base_uri": "https://localhost:8080/",
          "height": 204
        },
        "outputId": "0ab1cb5c-e54d-4e91-97f6-e22803d228b1"
      },
      "source": [
        "# просмотрим полученную выборку features_2\n",
        "features_2.head()"
      ],
      "execution_count": 15,
      "outputs": [
        {
          "output_type": "execute_result",
          "data": {
            "text/html": [
              "<div>\n",
              "<style scoped>\n",
              "    .dataframe tbody tr th:only-of-type {\n",
              "        vertical-align: middle;\n",
              "    }\n",
              "\n",
              "    .dataframe tbody tr th {\n",
              "        vertical-align: top;\n",
              "    }\n",
              "\n",
              "    .dataframe thead th {\n",
              "        text-align: right;\n",
              "    }\n",
              "</style>\n",
              "<table border=\"1\" class=\"dataframe\">\n",
              "  <thead>\n",
              "    <tr style=\"text-align: right;\">\n",
              "      <th></th>\n",
              "      <th>f0</th>\n",
              "      <th>f1</th>\n",
              "      <th>f2</th>\n",
              "    </tr>\n",
              "  </thead>\n",
              "  <tbody>\n",
              "    <tr>\n",
              "      <th>0</th>\n",
              "      <td>-15.001348</td>\n",
              "      <td>-8.276000</td>\n",
              "      <td>-0.005876</td>\n",
              "    </tr>\n",
              "    <tr>\n",
              "      <th>1</th>\n",
              "      <td>14.272088</td>\n",
              "      <td>-3.475083</td>\n",
              "      <td>0.999183</td>\n",
              "    </tr>\n",
              "    <tr>\n",
              "      <th>2</th>\n",
              "      <td>6.263187</td>\n",
              "      <td>-5.948386</td>\n",
              "      <td>5.001160</td>\n",
              "    </tr>\n",
              "    <tr>\n",
              "      <th>3</th>\n",
              "      <td>-13.081196</td>\n",
              "      <td>-11.506057</td>\n",
              "      <td>4.999415</td>\n",
              "    </tr>\n",
              "    <tr>\n",
              "      <th>4</th>\n",
              "      <td>12.702195</td>\n",
              "      <td>-8.147433</td>\n",
              "      <td>5.004363</td>\n",
              "    </tr>\n",
              "  </tbody>\n",
              "</table>\n",
              "</div>"
            ],
            "text/plain": [
              "          f0         f1        f2\n",
              "0 -15.001348  -8.276000 -0.005876\n",
              "1  14.272088  -3.475083  0.999183\n",
              "2   6.263187  -5.948386  5.001160\n",
              "3 -13.081196 -11.506057  4.999415\n",
              "4  12.702195  -8.147433  5.004363"
            ]
          },
          "metadata": {
            "tags": []
          },
          "execution_count": 15
        }
      ]
    },
    {
      "cell_type": "code",
      "metadata": {
        "id": "8dLXPWm4cP7g",
        "colab": {
          "base_uri": "https://localhost:8080/"
        },
        "outputId": "9769d6dc-6381-4334-edd5-d98c9089c774"
      },
      "source": [
        "# просмотрим полученную выборку target_2\n",
        "target_2.head()"
      ],
      "execution_count": 16,
      "outputs": [
        {
          "output_type": "execute_result",
          "data": {
            "text/plain": [
              "0      3.179103\n",
              "1     26.953261\n",
              "2    134.766305\n",
              "3    137.945408\n",
              "4    134.766305\n",
              "Name: product, dtype: float64"
            ]
          },
          "metadata": {
            "tags": []
          },
          "execution_count": 16
        }
      ]
    },
    {
      "cell_type": "code",
      "metadata": {
        "id": "MjEnkXZfcP7g"
      },
      "source": [
        "# Создадим переменные features_3 и target_3 для третьей выборки с помощью ф-ии preparation\n",
        "features_3, target_3 = preparation(region_data_3)"
      ],
      "execution_count": 17,
      "outputs": []
    },
    {
      "cell_type": "code",
      "metadata": {
        "id": "iKV4i9NWcP7g",
        "colab": {
          "base_uri": "https://localhost:8080/",
          "height": 204
        },
        "outputId": "c738feda-e91e-4db4-ae44-eb0a3dc3f956"
      },
      "source": [
        "# просмотрим полученную выборку features_3\n",
        "features_3.head()"
      ],
      "execution_count": 18,
      "outputs": [
        {
          "output_type": "execute_result",
          "data": {
            "text/html": [
              "<div>\n",
              "<style scoped>\n",
              "    .dataframe tbody tr th:only-of-type {\n",
              "        vertical-align: middle;\n",
              "    }\n",
              "\n",
              "    .dataframe tbody tr th {\n",
              "        vertical-align: top;\n",
              "    }\n",
              "\n",
              "    .dataframe thead th {\n",
              "        text-align: right;\n",
              "    }\n",
              "</style>\n",
              "<table border=\"1\" class=\"dataframe\">\n",
              "  <thead>\n",
              "    <tr style=\"text-align: right;\">\n",
              "      <th></th>\n",
              "      <th>f0</th>\n",
              "      <th>f1</th>\n",
              "      <th>f2</th>\n",
              "    </tr>\n",
              "  </thead>\n",
              "  <tbody>\n",
              "    <tr>\n",
              "      <th>0</th>\n",
              "      <td>-1.146987</td>\n",
              "      <td>0.963328</td>\n",
              "      <td>-0.828965</td>\n",
              "    </tr>\n",
              "    <tr>\n",
              "      <th>1</th>\n",
              "      <td>0.262778</td>\n",
              "      <td>0.269839</td>\n",
              "      <td>-2.530187</td>\n",
              "    </tr>\n",
              "    <tr>\n",
              "      <th>2</th>\n",
              "      <td>0.194587</td>\n",
              "      <td>0.289035</td>\n",
              "      <td>-5.586433</td>\n",
              "    </tr>\n",
              "    <tr>\n",
              "      <th>3</th>\n",
              "      <td>2.236060</td>\n",
              "      <td>-0.553760</td>\n",
              "      <td>0.930038</td>\n",
              "    </tr>\n",
              "    <tr>\n",
              "      <th>4</th>\n",
              "      <td>-0.515993</td>\n",
              "      <td>1.716266</td>\n",
              "      <td>5.899011</td>\n",
              "    </tr>\n",
              "  </tbody>\n",
              "</table>\n",
              "</div>"
            ],
            "text/plain": [
              "         f0        f1        f2\n",
              "0 -1.146987  0.963328 -0.828965\n",
              "1  0.262778  0.269839 -2.530187\n",
              "2  0.194587  0.289035 -5.586433\n",
              "3  2.236060 -0.553760  0.930038\n",
              "4 -0.515993  1.716266  5.899011"
            ]
          },
          "metadata": {
            "tags": []
          },
          "execution_count": 18
        }
      ]
    },
    {
      "cell_type": "code",
      "metadata": {
        "id": "0CTsqOAAcP7h",
        "colab": {
          "base_uri": "https://localhost:8080/"
        },
        "outputId": "500f07df-8910-432e-b3b6-ae703ffaf5dd"
      },
      "source": [
        "# просмотрим полученную выборку target_3\n",
        "target_3.head()"
      ],
      "execution_count": 19,
      "outputs": [
        {
          "output_type": "execute_result",
          "data": {
            "text/plain": [
              "0     27.758673\n",
              "1     56.069697\n",
              "2     62.871910\n",
              "3    114.572842\n",
              "4    149.600746\n",
              "Name: product, dtype: float64"
            ]
          },
          "metadata": {
            "tags": []
          },
          "execution_count": 19
        }
      ]
    },
    {
      "cell_type": "code",
      "metadata": {
        "id": "TVKuhjxTcP7h",
        "colab": {
          "base_uri": "https://localhost:8080/",
          "height": 530
        },
        "outputId": "00ec8f2c-5edc-4702-8830-9a1adf511315"
      },
      "source": [
        "# Построим гистограммы объема запасов нефти по регионам\n",
        "target_1.plot(kind='hist', bins=15, alpha=0.5, legend=True, label='Запас сырья в 1-м регионе')\n",
        "target_2.plot(kind='hist', bins=15, alpha=0.5, legend=True, label='Запас сырья во 2-м регионе')\n",
        "target_3.plot(kind='hist', bins=15, grid=True, alpha=0.5, figsize=(12, 8), legend=True, \n",
        "                        label='Запас сырья в 3-м регионе', \n",
        "                        title='Объемы запасов сырья по регионам').set_xlabel('Объем запасов в скважинах, тыс.баррелей')"
      ],
      "execution_count": 65,
      "outputs": [
        {
          "output_type": "execute_result",
          "data": {
            "text/plain": [
              "Text(0.5, 0, 'Объем запасов в скважинах, тыс.баррелей')"
            ]
          },
          "metadata": {
            "tags": []
          },
          "execution_count": 65
        },
        {
          "output_type": "display_data",
          "data": {
            "image/png": "[encoded data removed]",
            "text/plain": [
              "<Figure size 864x576 with 1 Axes>"
            ]
          },
          "metadata": {
            "tags": [],
            "needs_background": "light"
          }
        }
      ]
    },
    {
      "cell_type": "markdown",
      "metadata": {
        "id": "K68-_YbJcP7h"
      },
      "source": [
        "### Вывод по п.1"
      ]
    },
    {
      "cell_type": "markdown",
      "metadata": {
        "id": "_uIo6TmNcP7h"
      },
      "source": [
        "В исходных данных отсутвуют пропуски, тип данных в каждом столобце соответвует содержащимся в нем данным.\n",
        "\n",
        "При сохранении признаков в переменные **features_1, features_2, features_3** был отброшен столбец **id**, этот столбец содержит уникальные значения и поэтому никак не повлияет на качество обученаемой модели. \n",
        "\n",
        "Для 1-го и 3-го региона данные по объему сырья распределены более менее нормально, но данные для 2-го региона имеют некоторое смещение, т.к. среднее (68.8) больше медианы (57.1). \n",
        "Т.е. во 2-м регионе расположено большое количество скважин с запасом сырья не равным среднему значению.  "
      ]
    },
    {
      "cell_type": "markdown",
      "metadata": {
        "id": "rkKJdnN4cP7i"
      },
      "source": [
        "# 2. Обучение модели для каждого региона"
      ]
    },
    {
      "cell_type": "markdown",
      "metadata": {
        "id": "2v6ponRjcP7i"
      },
      "source": [
        "<a id='2.1-bullet'></a>\n",
        "### 2.1 Обучение модели для первого региона"
      ]
    },
    {
      "cell_type": "code",
      "metadata": {
        "id": "88O0bgBycP7i"
      },
      "source": [
        "# Разделим данные по 1-му региону на обучающую и валидационную выборки с помощью ф-ии split_data\n",
        "def split_data(f, t):\n",
        "    f_train, f_valid, t_train, t_valid = train_test_split(f, t, test_size=0.25, random_state=12345)\n",
        "    return f_train, f_valid, t_train, t_valid\n",
        "\n",
        "features_train_1, features_valid_1, target_train_1, target_valid_1 = split_data(features_1, target_1)"
      ],
      "execution_count": 21,
      "outputs": []
    },
    {
      "cell_type": "code",
      "metadata": {
        "id": "N9-Eal8kcP7i",
        "colab": {
          "base_uri": "https://localhost:8080/"
        },
        "outputId": "a7775b67-2c1c-494c-b5be-2078c19b6413"
      },
      "source": [
        "# Проверим размеры полученных выборок:\n",
        "print('Размер обучающей выборки features_train_1:', features_train_1.shape) \n",
        "print('Размер обучающей выборки target_train_1:', target_train_1.shape)\n",
        "print('Размер валидационной выборки features_valid_1:', features_valid_1.shape)\n",
        "print('Размер валидационной выборки target_valid_1:', target_valid_1.shape)"
      ],
      "execution_count": 22,
      "outputs": [
        {
          "output_type": "stream",
          "text": [
            "Размер обучающей выборки features_train_1: (75000, 3)\n",
            "Размер обучающей выборки target_train_1: (75000,)\n",
            "Размер валидационной выборки features_valid_1: (25000, 3)\n",
            "Размер валидационной выборки target_valid_1: (25000,)\n"
          ],
          "name": "stdout"
        }
      ]
    },
    {
      "cell_type": "code",
      "metadata": {
        "id": "cXDZFxE8cP7j",
        "colab": {
          "base_uri": "https://localhost:8080/"
        },
        "outputId": "e09a1ec8-14b9-492b-b296-5bbf9493132d"
      },
      "source": [
        "# Обучим модель для 1-го региона методом линейной регрессии с помощью ф-ии model_learning\n",
        "def model_learning(f_train, f_valid, t_train, t_valid):\n",
        "    model = LinearRegression()\n",
        "    model.fit(f_train, t_train)\n",
        "    predictions = model.predict(f_valid)\n",
        "    mean_product = predictions.mean()\n",
        "    RMSE = mean_squared_error(t_valid, predictions) ** 0.5\n",
        "    return predictions, mean_product, RMSE \n",
        "\n",
        "predictions_1, mean_product_1, RMSE_1 = model_learning(features_train_1, features_valid_1, target_train_1, target_valid_1)\n",
        "\n",
        "# Метрика RMSE для 1-го региона\n",
        "print('Модель для 1-го региона, метрика RMSE:', RMSE_1)"
      ],
      "execution_count": 23,
      "outputs": [
        {
          "output_type": "stream",
          "text": [
            "Модель для 1-го региона, метрика RMSE: 37.5794217150813\n"
          ],
          "name": "stdout"
        }
      ]
    },
    {
      "cell_type": "code",
      "metadata": {
        "id": "ZKhHFDhQcP7j",
        "colab": {
          "base_uri": "https://localhost:8080/"
        },
        "outputId": "f27d4f86-f5d9-44e3-bea3-da4c12073553"
      },
      "source": [
        "# Просмотрим предсказания для 1-го региона, начиная со скважин с наибольшими запасами  \n",
        "region_predictions_1 = pd.Series(predictions_1)\n",
        "region_predictions_1.sort_values(ascending=False).head()"
      ],
      "execution_count": 24,
      "outputs": [
        {
          "output_type": "execute_result",
          "data": {
            "text/plain": [
              "9317     180.180713\n",
              "219      176.252213\n",
              "10015    175.850623\n",
              "11584    175.658429\n",
              "23388    173.299686\n",
              "dtype: float64"
            ]
          },
          "metadata": {
            "tags": []
          },
          "execution_count": 24
        }
      ]
    },
    {
      "cell_type": "code",
      "metadata": {
        "id": "olf42c8JcP7k",
        "colab": {
          "base_uri": "https://localhost:8080/"
        },
        "outputId": "07a1a749-398d-4191-d59d-579c50d2edc8"
      },
      "source": [
        "# Средний запас нефти по 1-му региону\n",
        "mean_product_1"
      ],
      "execution_count": 25,
      "outputs": [
        {
          "output_type": "execute_result",
          "data": {
            "text/plain": [
              "92.59256778438038"
            ]
          },
          "metadata": {
            "tags": []
          },
          "execution_count": 25
        }
      ]
    },
    {
      "cell_type": "markdown",
      "metadata": {
        "id": "woMPe88FcP7k"
      },
      "source": [
        "<a id='2.2-bullet'></a>\n",
        "### 2.2 Обучение модели для второго региона"
      ]
    },
    {
      "cell_type": "code",
      "metadata": {
        "id": "kEwDV_ShcP7k"
      },
      "source": [
        "# Разделим данные по 2-му региону на обучающую и валидационную выборки с помощью ф-ии split_data\n",
        "features_train_2, features_valid_2, target_train_2, target_valid_2 = split_data(features_2, target_2)"
      ],
      "execution_count": 26,
      "outputs": []
    },
    {
      "cell_type": "code",
      "metadata": {
        "id": "zRkqv1pScP7k",
        "colab": {
          "base_uri": "https://localhost:8080/"
        },
        "outputId": "8ec095de-c559-4fe4-c322-d9c15600137d"
      },
      "source": [
        "# Проверим размеры полученных выборок:\n",
        "print('Размер обучающей выборки features_train_2:', features_train_2.shape) \n",
        "print('Размер обучающей выборки target_train_2:', target_train_2.shape)\n",
        "print('Размер валидационной выборки features_valid_2:', features_valid_2.shape)\n",
        "print('Размер валидационной выборки target_valid_2:', target_valid_2.shape)"
      ],
      "execution_count": 27,
      "outputs": [
        {
          "output_type": "stream",
          "text": [
            "Размер обучающей выборки features_train_2: (75000, 3)\n",
            "Размер обучающей выборки target_train_2: (75000,)\n",
            "Размер валидационной выборки features_valid_2: (25000, 3)\n",
            "Размер валидационной выборки target_valid_2: (25000,)\n"
          ],
          "name": "stdout"
        }
      ]
    },
    {
      "cell_type": "code",
      "metadata": {
        "id": "uv1H_bjVcP7l",
        "colab": {
          "base_uri": "https://localhost:8080/"
        },
        "outputId": "d5d99864-758a-4771-f46a-39066eff89ae"
      },
      "source": [
        "# Обучим модель для 2-го региона методом линейной регрессии с помощью ф-ии model_learning\n",
        "predictions_2, mean_product_2, RMSE_2 = model_learning(features_train_2, features_valid_2, target_train_2, target_valid_2)\n",
        "\n",
        "# Метрика RMSE для 2-го региона\n",
        "print('Модель для 2-го региона, метрика RMSE:', RMSE_2)"
      ],
      "execution_count": 28,
      "outputs": [
        {
          "output_type": "stream",
          "text": [
            "Модель для 2-го региона, метрика RMSE: 0.893099286775616\n"
          ],
          "name": "stdout"
        }
      ]
    },
    {
      "cell_type": "code",
      "metadata": {
        "id": "Vo7Me5ApcP7l",
        "colab": {
          "base_uri": "https://localhost:8080/"
        },
        "outputId": "971ee88a-a163-408f-c811-d50b443fd92c"
      },
      "source": [
        "# Просмотрим предсказания для 2-го региона, начиная со скважин с наибольшими запасами  \n",
        "region_predictions_2 = pd.Series(predictions_2)\n",
        "region_predictions_2.sort_values(ascending=False).head()"
      ],
      "execution_count": 29,
      "outputs": [
        {
          "output_type": "execute_result",
          "data": {
            "text/plain": [
              "20430    139.818970\n",
              "7777     139.773423\n",
              "8755     139.703330\n",
              "1178     139.560938\n",
              "4285     139.516754\n",
              "dtype: float64"
            ]
          },
          "metadata": {
            "tags": []
          },
          "execution_count": 29
        }
      ]
    },
    {
      "cell_type": "code",
      "metadata": {
        "id": "HLiBUbAhcP7l",
        "colab": {
          "base_uri": "https://localhost:8080/"
        },
        "outputId": "e0fd038e-1b2c-48a1-fb51-9f624dcd200a"
      },
      "source": [
        "# Средний запас нефти по 2-му региону\n",
        "mean_product_2"
      ],
      "execution_count": 30,
      "outputs": [
        {
          "output_type": "execute_result",
          "data": {
            "text/plain": [
              "68.728546895446"
            ]
          },
          "metadata": {
            "tags": []
          },
          "execution_count": 30
        }
      ]
    },
    {
      "cell_type": "markdown",
      "metadata": {
        "id": "OA9vzMiPcP7m"
      },
      "source": [
        "<a id='2.3-bullet'></a>\n",
        "### 2.3 Обучение модели для третьего региона"
      ]
    },
    {
      "cell_type": "code",
      "metadata": {
        "id": "wYHRlQ6LcP7m"
      },
      "source": [
        "# Разделим данные по 3-му региону на обучающую и валидационную выборки с помощью ф-ии split_data\n",
        "features_train_3, features_valid_3, target_train_3, target_valid_3 = split_data(features_3, target_3)"
      ],
      "execution_count": 31,
      "outputs": []
    },
    {
      "cell_type": "code",
      "metadata": {
        "id": "GV_jrJ8YcP7m",
        "colab": {
          "base_uri": "https://localhost:8080/"
        },
        "outputId": "995eb606-9fca-4313-8b4a-b04dc5c4bc5a"
      },
      "source": [
        "# Проверим размеры полученных выборок:\n",
        "print('Размер обучающей выборки features_train_3:', features_train_3.shape) \n",
        "print('Размер обучающей выборки target_train_3:', target_train_3.shape)\n",
        "print('Размер валидационной выборки features_valid_3:', features_valid_3.shape)\n",
        "print('Размер валидационной выборки target_valid_3:', target_valid_3.shape)"
      ],
      "execution_count": 32,
      "outputs": [
        {
          "output_type": "stream",
          "text": [
            "Размер обучающей выборки features_train_3: (75000, 3)\n",
            "Размер обучающей выборки target_train_3: (75000,)\n",
            "Размер валидационной выборки features_valid_3: (25000, 3)\n",
            "Размер валидационной выборки target_valid_3: (25000,)\n"
          ],
          "name": "stdout"
        }
      ]
    },
    {
      "cell_type": "code",
      "metadata": {
        "id": "uAkbKvIAcP7m",
        "colab": {
          "base_uri": "https://localhost:8080/"
        },
        "outputId": "816e6760-6e73-43c0-e657-9dfc2e194c83"
      },
      "source": [
        "# Обучим модель для 3-го региона методом линейной регрессии с помощью ф-ии model_learning\n",
        "predictions_3, mean_product_3, RMSE_3 = model_learning(features_train_3, features_valid_3, target_train_3, target_valid_3)\n",
        "\n",
        "# Метрика RMSE для 3-го региона\n",
        "print('Модель для 3-го региона, метрика RMSE:', RMSE_3)"
      ],
      "execution_count": 33,
      "outputs": [
        {
          "output_type": "stream",
          "text": [
            "Модель для 3-го региона, метрика RMSE: 40.02970873393434\n"
          ],
          "name": "stdout"
        }
      ]
    },
    {
      "cell_type": "code",
      "metadata": {
        "id": "HgDHZL2jcP7m",
        "colab": {
          "base_uri": "https://localhost:8080/"
        },
        "outputId": "495a1bae-5bdd-40b4-ee6a-fb065e1baa07"
      },
      "source": [
        "# Просмотрим предсказания для 3-го региона, начиная со скважин с наибольшими запасами  \n",
        "region_predictions_3 = pd.Series(predictions_3)\n",
        "region_predictions_3.sort_values(ascending=False).head()"
      ],
      "execution_count": 34,
      "outputs": [
        {
          "output_type": "execute_result",
          "data": {
            "text/plain": [
              "22636    165.856833\n",
              "24690    165.679685\n",
              "7811     163.439962\n",
              "1581     162.062589\n",
              "6751     161.797476\n",
              "dtype: float64"
            ]
          },
          "metadata": {
            "tags": []
          },
          "execution_count": 34
        }
      ]
    },
    {
      "cell_type": "code",
      "metadata": {
        "id": "AbX5FRnscP7m",
        "colab": {
          "base_uri": "https://localhost:8080/"
        },
        "outputId": "c0804acb-95d7-4195-ce13-930066ecedbb"
      },
      "source": [
        "# Средний запас нефти по 3-му региону\n",
        "mean_product_3"
      ],
      "execution_count": 35,
      "outputs": [
        {
          "output_type": "execute_result",
          "data": {
            "text/plain": [
              "94.96504596800489"
            ]
          },
          "metadata": {
            "tags": []
          },
          "execution_count": 35
        }
      ]
    },
    {
      "cell_type": "markdown",
      "metadata": {
        "id": "Tohbv9-4cP7n"
      },
      "source": [
        "<a id='2.4-bullet'></a>\n",
        "### 2.4 Анализ результатов"
      ]
    },
    {
      "cell_type": "code",
      "metadata": {
        "id": "1Rwt0JeMcP7n",
        "colab": {
          "base_uri": "https://localhost:8080/",
          "height": 142
        },
        "outputId": "72082fb8-27ca-40e5-b3df-9bc2bd768c2d"
      },
      "source": [
        "# Сведем в общую таблицу средний запас нефти по каждому региону\n",
        "region_result = {}\n",
        "region_result['1-й регион'] = RMSE_1, mean_product_1\n",
        "region_result['2-й регион'] = RMSE_2, mean_product_2\n",
        "region_result['3-й регион'] = RMSE_3, mean_product_3\n",
        "region_result = pd.DataFrame.from_dict(region_result, orient='index', columns=['Метрика RMSE','Ср. запас сырья, тыс.баррелей'])\n",
        "region_result"
      ],
      "execution_count": 36,
      "outputs": [
        {
          "output_type": "execute_result",
          "data": {
            "text/html": [
              "<div>\n",
              "<style scoped>\n",
              "    .dataframe tbody tr th:only-of-type {\n",
              "        vertical-align: middle;\n",
              "    }\n",
              "\n",
              "    .dataframe tbody tr th {\n",
              "        vertical-align: top;\n",
              "    }\n",
              "\n",
              "    .dataframe thead th {\n",
              "        text-align: right;\n",
              "    }\n",
              "</style>\n",
              "<table border=\"1\" class=\"dataframe\">\n",
              "  <thead>\n",
              "    <tr style=\"text-align: right;\">\n",
              "      <th></th>\n",
              "      <th>Метрика RMSE</th>\n",
              "      <th>Ср. запас сырья, тыс.баррелей</th>\n",
              "    </tr>\n",
              "  </thead>\n",
              "  <tbody>\n",
              "    <tr>\n",
              "      <th>1-й регион</th>\n",
              "      <td>37.579422</td>\n",
              "      <td>92.592568</td>\n",
              "    </tr>\n",
              "    <tr>\n",
              "      <th>2-й регион</th>\n",
              "      <td>0.893099</td>\n",
              "      <td>68.728547</td>\n",
              "    </tr>\n",
              "    <tr>\n",
              "      <th>3-й регион</th>\n",
              "      <td>40.029709</td>\n",
              "      <td>94.965046</td>\n",
              "    </tr>\n",
              "  </tbody>\n",
              "</table>\n",
              "</div>"
            ],
            "text/plain": [
              "            Метрика RMSE  Ср. запас сырья, тыс.баррелей\n",
              "1-й регион     37.579422                      92.592568\n",
              "2-й регион      0.893099                      68.728547\n",
              "3-й регион     40.029709                      94.965046"
            ]
          },
          "metadata": {
            "tags": []
          },
          "execution_count": 36
        }
      ]
    },
    {
      "cell_type": "code",
      "metadata": {
        "scrolled": false,
        "id": "6R-D8kA6cP7n",
        "colab": {
          "base_uri": "https://localhost:8080/",
          "height": 476
        },
        "outputId": "10ffbe6b-879e-4737-d414-2ff6b6a434da"
      },
      "source": [
        "# Построим гистограммы предсказанных запасов нефти по регионам\n",
        "region_predictions_1.plot(kind='hist', bins=15, alpha=0.5, legend=True, label='Предсказание для 1-го региона')\n",
        "region_predictions_2.plot(kind='hist', bins=15, alpha=0.5, legend=True, label='Предсказание для 2-го региона')\n",
        "region_predictions_3.plot(kind='hist', bins=15, grid=True, alpha=0.5, figsize=(12, 7), legend=True, \n",
        "                        label='Предсказание для 3-го региона', \n",
        "                        title='Предсказания объема запасов по регионам').set_xlabel('Объем запасов в скважинах, тыс.баррелей')"
      ],
      "execution_count": 37,
      "outputs": [
        {
          "output_type": "execute_result",
          "data": {
            "text/plain": [
              "Text(0.5, 0, 'Объем запасов в скважинах, тыс.баррелей')"
            ]
          },
          "metadata": {
            "tags": []
          },
          "execution_count": 37
        },
        {
          "output_type": "display_data",
          "data": {
            "image/png": "[encoded data removed]",
            "text/plain": [
              "<Figure size 864x504 with 1 Axes>"
            ]
          },
          "metadata": {
            "tags": [],
            "needs_background": "light"
          }
        }
      ]
    },
    {
      "cell_type": "code",
      "metadata": {
        "id": "QDREJm14cP7n",
        "colab": {
          "base_uri": "https://localhost:8080/",
          "height": 124
        },
        "outputId": "5e72d0b2-5399-47f0-f2fe-2ebdb1e504de"
      },
      "source": [
        "# Для того, что бы понять откуда взялась существенная разница между метрикками RMSE по регионам\n",
        "# проверим корреляцию признаков и целевых признаков для каждого региона\n",
        "# Определим корреляцию признаков для 1-го региона\n",
        "region_data_1.drop('id', axis=1).corr().style.background_gradient('coolwarm')"
      ],
      "execution_count": 38,
      "outputs": [
        {
          "output_type": "execute_result",
          "data": {
            "text/html": [
              "<style  type=\"text/css\" >\n",
              "#T_6fae6806_90d2_11eb_a315_0242ac1c0002row0_col0,#T_6fae6806_90d2_11eb_a315_0242ac1c0002row1_col1,#T_6fae6806_90d2_11eb_a315_0242ac1c0002row2_col2,#T_6fae6806_90d2_11eb_a315_0242ac1c0002row3_col3{\n",
              "            background-color:  #b40426;\n",
              "            color:  #f1f1f1;\n",
              "        }#T_6fae6806_90d2_11eb_a315_0242ac1c0002row0_col1,#T_6fae6806_90d2_11eb_a315_0242ac1c0002row0_col2,#T_6fae6806_90d2_11eb_a315_0242ac1c0002row1_col0,#T_6fae6806_90d2_11eb_a315_0242ac1c0002row1_col3{\n",
              "            background-color:  #3b4cc0;\n",
              "            color:  #f1f1f1;\n",
              "        }#T_6fae6806_90d2_11eb_a315_0242ac1c0002row0_col3{\n",
              "            background-color:  #98b9ff;\n",
              "            color:  #000000;\n",
              "        }#T_6fae6806_90d2_11eb_a315_0242ac1c0002row1_col2{\n",
              "            background-color:  #3c4ec2;\n",
              "            color:  #f1f1f1;\n",
              "        }#T_6fae6806_90d2_11eb_a315_0242ac1c0002row2_col0{\n",
              "            background-color:  #9fbfff;\n",
              "            color:  #000000;\n",
              "        }#T_6fae6806_90d2_11eb_a315_0242ac1c0002row2_col1{\n",
              "            background-color:  #a1c0ff;\n",
              "            color:  #000000;\n",
              "        }#T_6fae6806_90d2_11eb_a315_0242ac1c0002row2_col3{\n",
              "            background-color:  #edd2c3;\n",
              "            color:  #000000;\n",
              "        }#T_6fae6806_90d2_11eb_a315_0242ac1c0002row3_col0{\n",
              "            background-color:  #c1d4f4;\n",
              "            color:  #000000;\n",
              "        }#T_6fae6806_90d2_11eb_a315_0242ac1c0002row3_col1{\n",
              "            background-color:  #7295f4;\n",
              "            color:  #000000;\n",
              "        }#T_6fae6806_90d2_11eb_a315_0242ac1c0002row3_col2{\n",
              "            background-color:  #d9dce1;\n",
              "            color:  #000000;\n",
              "        }</style><table id=\"T_6fae6806_90d2_11eb_a315_0242ac1c0002\" ><thead>    <tr>        <th class=\"blank level0\" ></th>        <th class=\"col_heading level0 col0\" >f0</th>        <th class=\"col_heading level0 col1\" >f1</th>        <th class=\"col_heading level0 col2\" >f2</th>        <th class=\"col_heading level0 col3\" >product</th>    </tr></thead><tbody>\n",
              "                <tr>\n",
              "                        <th id=\"T_6fae6806_90d2_11eb_a315_0242ac1c0002level0_row0\" class=\"row_heading level0 row0\" >f0</th>\n",
              "                        <td id=\"T_6fae6806_90d2_11eb_a315_0242ac1c0002row0_col0\" class=\"data row0 col0\" >1.000000</td>\n",
              "                        <td id=\"T_6fae6806_90d2_11eb_a315_0242ac1c0002row0_col1\" class=\"data row0 col1\" >-0.440723</td>\n",
              "                        <td id=\"T_6fae6806_90d2_11eb_a315_0242ac1c0002row0_col2\" class=\"data row0 col2\" >-0.003153</td>\n",
              "                        <td id=\"T_6fae6806_90d2_11eb_a315_0242ac1c0002row0_col3\" class=\"data row0 col3\" >0.143536</td>\n",
              "            </tr>\n",
              "            <tr>\n",
              "                        <th id=\"T_6fae6806_90d2_11eb_a315_0242ac1c0002level0_row1\" class=\"row_heading level0 row1\" >f1</th>\n",
              "                        <td id=\"T_6fae6806_90d2_11eb_a315_0242ac1c0002row1_col0\" class=\"data row1 col0\" >-0.440723</td>\n",
              "                        <td id=\"T_6fae6806_90d2_11eb_a315_0242ac1c0002row1_col1\" class=\"data row1 col1\" >1.000000</td>\n",
              "                        <td id=\"T_6fae6806_90d2_11eb_a315_0242ac1c0002row1_col2\" class=\"data row1 col2\" >0.001724</td>\n",
              "                        <td id=\"T_6fae6806_90d2_11eb_a315_0242ac1c0002row1_col3\" class=\"data row1 col3\" >-0.192356</td>\n",
              "            </tr>\n",
              "            <tr>\n",
              "                        <th id=\"T_6fae6806_90d2_11eb_a315_0242ac1c0002level0_row2\" class=\"row_heading level0 row2\" >f2</th>\n",
              "                        <td id=\"T_6fae6806_90d2_11eb_a315_0242ac1c0002row2_col0\" class=\"data row2 col0\" >-0.003153</td>\n",
              "                        <td id=\"T_6fae6806_90d2_11eb_a315_0242ac1c0002row2_col1\" class=\"data row2 col1\" >0.001724</td>\n",
              "                        <td id=\"T_6fae6806_90d2_11eb_a315_0242ac1c0002row2_col2\" class=\"data row2 col2\" >1.000000</td>\n",
              "                        <td id=\"T_6fae6806_90d2_11eb_a315_0242ac1c0002row2_col3\" class=\"data row2 col3\" >0.483663</td>\n",
              "            </tr>\n",
              "            <tr>\n",
              "                        <th id=\"T_6fae6806_90d2_11eb_a315_0242ac1c0002level0_row3\" class=\"row_heading level0 row3\" >product</th>\n",
              "                        <td id=\"T_6fae6806_90d2_11eb_a315_0242ac1c0002row3_col0\" class=\"data row3 col0\" >0.143536</td>\n",
              "                        <td id=\"T_6fae6806_90d2_11eb_a315_0242ac1c0002row3_col1\" class=\"data row3 col1\" >-0.192356</td>\n",
              "                        <td id=\"T_6fae6806_90d2_11eb_a315_0242ac1c0002row3_col2\" class=\"data row3 col2\" >0.483663</td>\n",
              "                        <td id=\"T_6fae6806_90d2_11eb_a315_0242ac1c0002row3_col3\" class=\"data row3 col3\" >1.000000</td>\n",
              "            </tr>\n",
              "    </tbody></table>"
            ],
            "text/plain": [
              "<pandas.io.formats.style.Styler at 0x7f5d818b3950>"
            ]
          },
          "metadata": {
            "tags": []
          },
          "execution_count": 38
        }
      ]
    },
    {
      "cell_type": "code",
      "metadata": {
        "id": "63p0TIoycP7o",
        "colab": {
          "base_uri": "https://localhost:8080/",
          "height": 124
        },
        "outputId": "0fd47f1c-f269-4659-9257-7324ecbd6659"
      },
      "source": [
        "# Определим корреляцию признаков для 2-го региона\n",
        "region_data_2.drop('id',axis=1).corr().style.background_gradient('coolwarm')"
      ],
      "execution_count": 39,
      "outputs": [
        {
          "output_type": "execute_result",
          "data": {
            "text/html": [
              "<style  type=\"text/css\" >\n",
              "#T_6fb565b6_90d2_11eb_a315_0242ac1c0002row0_col0,#T_6fb565b6_90d2_11eb_a315_0242ac1c0002row1_col1,#T_6fb565b6_90d2_11eb_a315_0242ac1c0002row2_col2,#T_6fb565b6_90d2_11eb_a315_0242ac1c0002row2_col3,#T_6fb565b6_90d2_11eb_a315_0242ac1c0002row3_col2,#T_6fb565b6_90d2_11eb_a315_0242ac1c0002row3_col3{\n",
              "            background-color:  #b40426;\n",
              "            color:  #f1f1f1;\n",
              "        }#T_6fb565b6_90d2_11eb_a315_0242ac1c0002row0_col1{\n",
              "            background-color:  #779af7;\n",
              "            color:  #000000;\n",
              "        }#T_6fb565b6_90d2_11eb_a315_0242ac1c0002row0_col2,#T_6fb565b6_90d2_11eb_a315_0242ac1c0002row0_col3,#T_6fb565b6_90d2_11eb_a315_0242ac1c0002row1_col2,#T_6fb565b6_90d2_11eb_a315_0242ac1c0002row3_col0,#T_6fb565b6_90d2_11eb_a315_0242ac1c0002row3_col1{\n",
              "            background-color:  #3b4cc0;\n",
              "            color:  #f1f1f1;\n",
              "        }#T_6fb565b6_90d2_11eb_a315_0242ac1c0002row1_col0{\n",
              "            background-color:  #7da0f9;\n",
              "            color:  #000000;\n",
              "        }#T_6fb565b6_90d2_11eb_a315_0242ac1c0002row1_col3{\n",
              "            background-color:  #4055c8;\n",
              "            color:  #f1f1f1;\n",
              "        }#T_6fb565b6_90d2_11eb_a315_0242ac1c0002row2_col0{\n",
              "            background-color:  #4358cb;\n",
              "            color:  #f1f1f1;\n",
              "        }#T_6fb565b6_90d2_11eb_a315_0242ac1c0002row2_col1{\n",
              "            background-color:  #3c4ec2;\n",
              "            color:  #f1f1f1;\n",
              "        }</style><table id=\"T_6fb565b6_90d2_11eb_a315_0242ac1c0002\" ><thead>    <tr>        <th class=\"blank level0\" ></th>        <th class=\"col_heading level0 col0\" >f0</th>        <th class=\"col_heading level0 col1\" >f1</th>        <th class=\"col_heading level0 col2\" >f2</th>        <th class=\"col_heading level0 col3\" >product</th>    </tr></thead><tbody>\n",
              "                <tr>\n",
              "                        <th id=\"T_6fb565b6_90d2_11eb_a315_0242ac1c0002level0_row0\" class=\"row_heading level0 row0\" >f0</th>\n",
              "                        <td id=\"T_6fb565b6_90d2_11eb_a315_0242ac1c0002row0_col0\" class=\"data row0 col0\" >1.000000</td>\n",
              "                        <td id=\"T_6fb565b6_90d2_11eb_a315_0242ac1c0002row0_col1\" class=\"data row0 col1\" >0.182287</td>\n",
              "                        <td id=\"T_6fb565b6_90d2_11eb_a315_0242ac1c0002row0_col2\" class=\"data row0 col2\" >-0.001777</td>\n",
              "                        <td id=\"T_6fb565b6_90d2_11eb_a315_0242ac1c0002row0_col3\" class=\"data row0 col3\" >-0.030491</td>\n",
              "            </tr>\n",
              "            <tr>\n",
              "                        <th id=\"T_6fb565b6_90d2_11eb_a315_0242ac1c0002level0_row1\" class=\"row_heading level0 row1\" >f1</th>\n",
              "                        <td id=\"T_6fb565b6_90d2_11eb_a315_0242ac1c0002row1_col0\" class=\"data row1 col0\" >0.182287</td>\n",
              "                        <td id=\"T_6fb565b6_90d2_11eb_a315_0242ac1c0002row1_col1\" class=\"data row1 col1\" >1.000000</td>\n",
              "                        <td id=\"T_6fb565b6_90d2_11eb_a315_0242ac1c0002row1_col2\" class=\"data row1 col2\" >-0.002595</td>\n",
              "                        <td id=\"T_6fb565b6_90d2_11eb_a315_0242ac1c0002row1_col3\" class=\"data row1 col3\" >-0.010155</td>\n",
              "            </tr>\n",
              "            <tr>\n",
              "                        <th id=\"T_6fb565b6_90d2_11eb_a315_0242ac1c0002level0_row2\" class=\"row_heading level0 row2\" >f2</th>\n",
              "                        <td id=\"T_6fb565b6_90d2_11eb_a315_0242ac1c0002row2_col0\" class=\"data row2 col0\" >-0.001777</td>\n",
              "                        <td id=\"T_6fb565b6_90d2_11eb_a315_0242ac1c0002row2_col1\" class=\"data row2 col1\" >-0.002595</td>\n",
              "                        <td id=\"T_6fb565b6_90d2_11eb_a315_0242ac1c0002row2_col2\" class=\"data row2 col2\" >1.000000</td>\n",
              "                        <td id=\"T_6fb565b6_90d2_11eb_a315_0242ac1c0002row2_col3\" class=\"data row2 col3\" >0.999397</td>\n",
              "            </tr>\n",
              "            <tr>\n",
              "                        <th id=\"T_6fb565b6_90d2_11eb_a315_0242ac1c0002level0_row3\" class=\"row_heading level0 row3\" >product</th>\n",
              "                        <td id=\"T_6fb565b6_90d2_11eb_a315_0242ac1c0002row3_col0\" class=\"data row3 col0\" >-0.030491</td>\n",
              "                        <td id=\"T_6fb565b6_90d2_11eb_a315_0242ac1c0002row3_col1\" class=\"data row3 col1\" >-0.010155</td>\n",
              "                        <td id=\"T_6fb565b6_90d2_11eb_a315_0242ac1c0002row3_col2\" class=\"data row3 col2\" >0.999397</td>\n",
              "                        <td id=\"T_6fb565b6_90d2_11eb_a315_0242ac1c0002row3_col3\" class=\"data row3 col3\" >1.000000</td>\n",
              "            </tr>\n",
              "    </tbody></table>"
            ],
            "text/plain": [
              "<pandas.io.formats.style.Styler at 0x7f5d8157c450>"
            ]
          },
          "metadata": {
            "tags": []
          },
          "execution_count": 39
        }
      ]
    },
    {
      "cell_type": "code",
      "metadata": {
        "id": "g88-7nsJcP7o",
        "colab": {
          "base_uri": "https://localhost:8080/",
          "height": 124
        },
        "outputId": "2df18585-5422-485e-a599-01d3a70c9943"
      },
      "source": [
        "# Определим корреляцию признаков для 3-го региона\n",
        "region_data_3.drop('id', axis=1).corr().style.background_gradient('coolwarm')"
      ],
      "execution_count": 40,
      "outputs": [
        {
          "output_type": "execute_result",
          "data": {
            "text/html": [
              "<style  type=\"text/css\" >\n",
              "#T_6fbc3d3c_90d2_11eb_a315_0242ac1c0002row0_col0,#T_6fbc3d3c_90d2_11eb_a315_0242ac1c0002row1_col1,#T_6fbc3d3c_90d2_11eb_a315_0242ac1c0002row2_col2,#T_6fbc3d3c_90d2_11eb_a315_0242ac1c0002row3_col3{\n",
              "            background-color:  #b40426;\n",
              "            color:  #f1f1f1;\n",
              "        }#T_6fbc3d3c_90d2_11eb_a315_0242ac1c0002row0_col1,#T_6fbc3d3c_90d2_11eb_a315_0242ac1c0002row0_col2,#T_6fbc3d3c_90d2_11eb_a315_0242ac1c0002row0_col3,#T_6fbc3d3c_90d2_11eb_a315_0242ac1c0002row1_col0,#T_6fbc3d3c_90d2_11eb_a315_0242ac1c0002row1_col2,#T_6fbc3d3c_90d2_11eb_a315_0242ac1c0002row1_col3,#T_6fbc3d3c_90d2_11eb_a315_0242ac1c0002row2_col0,#T_6fbc3d3c_90d2_11eb_a315_0242ac1c0002row2_col1,#T_6fbc3d3c_90d2_11eb_a315_0242ac1c0002row3_col0,#T_6fbc3d3c_90d2_11eb_a315_0242ac1c0002row3_col1{\n",
              "            background-color:  #3b4cc0;\n",
              "            color:  #f1f1f1;\n",
              "        }#T_6fbc3d3c_90d2_11eb_a315_0242ac1c0002row2_col3,#T_6fbc3d3c_90d2_11eb_a315_0242ac1c0002row3_col2{\n",
              "            background-color:  #cedaeb;\n",
              "            color:  #000000;\n",
              "        }</style><table id=\"T_6fbc3d3c_90d2_11eb_a315_0242ac1c0002\" ><thead>    <tr>        <th class=\"blank level0\" ></th>        <th class=\"col_heading level0 col0\" >f0</th>        <th class=\"col_heading level0 col1\" >f1</th>        <th class=\"col_heading level0 col2\" >f2</th>        <th class=\"col_heading level0 col3\" >product</th>    </tr></thead><tbody>\n",
              "                <tr>\n",
              "                        <th id=\"T_6fbc3d3c_90d2_11eb_a315_0242ac1c0002level0_row0\" class=\"row_heading level0 row0\" >f0</th>\n",
              "                        <td id=\"T_6fbc3d3c_90d2_11eb_a315_0242ac1c0002row0_col0\" class=\"data row0 col0\" >1.000000</td>\n",
              "                        <td id=\"T_6fbc3d3c_90d2_11eb_a315_0242ac1c0002row0_col1\" class=\"data row0 col1\" >0.000528</td>\n",
              "                        <td id=\"T_6fbc3d3c_90d2_11eb_a315_0242ac1c0002row0_col2\" class=\"data row0 col2\" >-0.000448</td>\n",
              "                        <td id=\"T_6fbc3d3c_90d2_11eb_a315_0242ac1c0002row0_col3\" class=\"data row0 col3\" >-0.001987</td>\n",
              "            </tr>\n",
              "            <tr>\n",
              "                        <th id=\"T_6fbc3d3c_90d2_11eb_a315_0242ac1c0002level0_row1\" class=\"row_heading level0 row1\" >f1</th>\n",
              "                        <td id=\"T_6fbc3d3c_90d2_11eb_a315_0242ac1c0002row1_col0\" class=\"data row1 col0\" >0.000528</td>\n",
              "                        <td id=\"T_6fbc3d3c_90d2_11eb_a315_0242ac1c0002row1_col1\" class=\"data row1 col1\" >1.000000</td>\n",
              "                        <td id=\"T_6fbc3d3c_90d2_11eb_a315_0242ac1c0002row1_col2\" class=\"data row1 col2\" >0.000779</td>\n",
              "                        <td id=\"T_6fbc3d3c_90d2_11eb_a315_0242ac1c0002row1_col3\" class=\"data row1 col3\" >-0.001012</td>\n",
              "            </tr>\n",
              "            <tr>\n",
              "                        <th id=\"T_6fbc3d3c_90d2_11eb_a315_0242ac1c0002level0_row2\" class=\"row_heading level0 row2\" >f2</th>\n",
              "                        <td id=\"T_6fbc3d3c_90d2_11eb_a315_0242ac1c0002row2_col0\" class=\"data row2 col0\" >-0.000448</td>\n",
              "                        <td id=\"T_6fbc3d3c_90d2_11eb_a315_0242ac1c0002row2_col1\" class=\"data row2 col1\" >0.000779</td>\n",
              "                        <td id=\"T_6fbc3d3c_90d2_11eb_a315_0242ac1c0002row2_col2\" class=\"data row2 col2\" >1.000000</td>\n",
              "                        <td id=\"T_6fbc3d3c_90d2_11eb_a315_0242ac1c0002row2_col3\" class=\"data row2 col3\" >0.445871</td>\n",
              "            </tr>\n",
              "            <tr>\n",
              "                        <th id=\"T_6fbc3d3c_90d2_11eb_a315_0242ac1c0002level0_row3\" class=\"row_heading level0 row3\" >product</th>\n",
              "                        <td id=\"T_6fbc3d3c_90d2_11eb_a315_0242ac1c0002row3_col0\" class=\"data row3 col0\" >-0.001987</td>\n",
              "                        <td id=\"T_6fbc3d3c_90d2_11eb_a315_0242ac1c0002row3_col1\" class=\"data row3 col1\" >-0.001012</td>\n",
              "                        <td id=\"T_6fbc3d3c_90d2_11eb_a315_0242ac1c0002row3_col2\" class=\"data row3 col2\" >0.445871</td>\n",
              "                        <td id=\"T_6fbc3d3c_90d2_11eb_a315_0242ac1c0002row3_col3\" class=\"data row3 col3\" >1.000000</td>\n",
              "            </tr>\n",
              "    </tbody></table>"
            ],
            "text/plain": [
              "<pandas.io.formats.style.Styler at 0x7f5d8156af90>"
            ]
          },
          "metadata": {
            "tags": []
          },
          "execution_count": 40
        }
      ]
    },
    {
      "cell_type": "markdown",
      "metadata": {
        "id": "Oaz5WQyecP7o"
      },
      "source": [
        "### Вывод по п.2"
      ]
    },
    {
      "cell_type": "markdown",
      "metadata": {
        "id": "Jzvre9MXcP7o"
      },
      "source": [
        "После анализе результатов предсказаний запасов сырья по каждому региону можно сделать следующие выводы: по среднему запасу сырья на первом месте находится 3-й регион (94,5 тыс.баррелей), меньше всего средний запас сырья во 2-ом регионе (68,7 тыс.баррелей).\n",
        "\n",
        "Однако необходимо учесть, что предсказания для 2-го региона оказались точнее, чем предсказания для остальных регионов, т.к. метрика модели `RMSE` для 2-го региона показала существенно меньше значение (0.9), чем метрики для 1-го (37.6) и 3-го (40.0) регионов.\n",
        "\n",
        "Изучение корреляции признаков и целевых признаков по регионам показало, \n",
        "что во всех регионах значение целевых признаков больше всего зависит от признаков содержащихся в столбце **f2**, однако для 2-го региона признаки из столбца **f2** практически 100% совпадают с целевыми признаками. Т.е. где-то произошла утечка целевого признака. Этим и объясняется такая высокая точность модели для 2-го региона.\n"
      ]
    },
    {
      "cell_type": "markdown",
      "metadata": {
        "id": "OepFXEiAcP7p"
      },
      "source": [
        "<a id='3-bullet'></a>\n",
        "# 3. Подготовка к расчёту прибыли"
      ]
    },
    {
      "cell_type": "code",
      "metadata": {
        "id": "YNvCIfLHcP7p"
      },
      "source": [
        "# Схраним в переменную region_budget бюджет на разработку скважин в одном регионе\n",
        "REGION_BUDGET = 10000000000"
      ],
      "execution_count": 41,
      "outputs": []
    },
    {
      "cell_type": "code",
      "metadata": {
        "id": "RBEpT6yrcP7p"
      },
      "source": [
        "# Схраним в переменную region_point количество скважин планируемых к разработке в одном регионе\n",
        "REGION_POINT = 200"
      ],
      "execution_count": 42,
      "outputs": []
    },
    {
      "cell_type": "code",
      "metadata": {
        "id": "bN57QEmQcP7p"
      },
      "source": [
        "# Схраним в переменную one_point_profit прибыль с одного баррелей нефти \n",
        "ONE_BARREL_PROFIT = 450"
      ],
      "execution_count": 43,
      "outputs": []
    },
    {
      "cell_type": "code",
      "metadata": {
        "id": "lRr11vdxcP7q",
        "colab": {
          "base_uri": "https://localhost:8080/"
        },
        "outputId": "ebd59dec-a707-4b02-8a73-e2cc30568c4a"
      },
      "source": [
        "# Расчитаем стоимость одной скважины с учетом бюджета на регион 10 млрд. и кол-ва разрабатываемых скважин - 200 точек\n",
        "ONE_POINT_COST = round(REGION_BUDGET/REGION_POINT, 2)\n",
        "print('Стоимоить разработки одной скважины в регионе:', ONE_POINT_COST, 'руб.')"
      ],
      "execution_count": 44,
      "outputs": [
        {
          "output_type": "stream",
          "text": [
            "Стоимоить разработки одной скважины в регионе: 50000000.0 руб.\n"
          ],
          "name": "stdout"
        }
      ]
    },
    {
      "cell_type": "code",
      "metadata": {
        "id": "R3DPviw4cP7q",
        "colab": {
          "base_uri": "https://localhost:8080/"
        },
        "outputId": "3f9a6650-2899-4ca4-88d8-261a2c4f99c0"
      },
      "source": [
        "# Определим минимальный объем сырья в скважине для ее безубыточной разработки\n",
        "# Безубыточными будем считать скважины прибыль от разработки которых полностью покрывает расход на их разработку\n",
        "min_quantity_oil = round(ONE_POINT_COST/ONE_BARREL_PROFIT/1000, 3)\n",
        "print('Минимальный объем скважины для безубыточной разработки:', min_quantity_oil, 'тыс.баррелей')"
      ],
      "execution_count": 45,
      "outputs": [
        {
          "output_type": "stream",
          "text": [
            "Минимальный объем скважины для безубыточной разработки: 111.111 тыс.баррелей\n"
          ],
          "name": "stdout"
        }
      ]
    },
    {
      "cell_type": "code",
      "metadata": {
        "id": "gmXYpCjNcP7q",
        "colab": {
          "base_uri": "https://localhost:8080/",
          "height": 173
        },
        "outputId": "6cc05c5d-d77c-454c-fc09-62cf7c7205c5"
      },
      "source": [
        "# Сравним средний фактический объем скважин по регионам с объемом необходимым для минимальной безубыточной разработки\n",
        "data = [region_data_1['product'].mean(), region_data_2['product'].mean(), \n",
        "        region_data_3['product'].mean(), min_quantity_oil]\n",
        "check_result = pd.DataFrame(data=data, columns=['Ср. запас сырья, тыс.баррелей'], \n",
        "                            index=['1-й регион', '2-й регион', '3-й регион', 'Мин. безубыточный запас сырья']) \n",
        "check_result"
      ],
      "execution_count": 46,
      "outputs": [
        {
          "output_type": "execute_result",
          "data": {
            "text/html": [
              "<div>\n",
              "<style scoped>\n",
              "    .dataframe tbody tr th:only-of-type {\n",
              "        vertical-align: middle;\n",
              "    }\n",
              "\n",
              "    .dataframe tbody tr th {\n",
              "        vertical-align: top;\n",
              "    }\n",
              "\n",
              "    .dataframe thead th {\n",
              "        text-align: right;\n",
              "    }\n",
              "</style>\n",
              "<table border=\"1\" class=\"dataframe\">\n",
              "  <thead>\n",
              "    <tr style=\"text-align: right;\">\n",
              "      <th></th>\n",
              "      <th>Ср. запас сырья, тыс.баррелей</th>\n",
              "    </tr>\n",
              "  </thead>\n",
              "  <tbody>\n",
              "    <tr>\n",
              "      <th>1-й регион</th>\n",
              "      <td>92.500</td>\n",
              "    </tr>\n",
              "    <tr>\n",
              "      <th>2-й регион</th>\n",
              "      <td>68.825</td>\n",
              "    </tr>\n",
              "    <tr>\n",
              "      <th>3-й регион</th>\n",
              "      <td>95.000</td>\n",
              "    </tr>\n",
              "    <tr>\n",
              "      <th>Мин. безубыточный запас сырья</th>\n",
              "      <td>111.111</td>\n",
              "    </tr>\n",
              "  </tbody>\n",
              "</table>\n",
              "</div>"
            ],
            "text/plain": [
              "                               Ср. запас сырья, тыс.баррелей\n",
              "1-й регион                                            92.500\n",
              "2-й регион                                            68.825\n",
              "3-й регион                                            95.000\n",
              "Мин. безубыточный запас сырья                        111.111"
            ]
          },
          "metadata": {
            "tags": []
          },
          "execution_count": 46
        }
      ]
    },
    {
      "cell_type": "code",
      "metadata": {
        "id": "-eM7b2pCcP7q",
        "colab": {
          "base_uri": "https://localhost:8080/",
          "height": 173
        },
        "outputId": "7f7687be-c054-4b07-c274-4ee342c118d6"
      },
      "source": [
        "# Добавим столбец с разницей между средним запасом сырья и минимальным безубыточным, в %\n",
        "check_result['Разница между ср. и безубыточным запасами, %'] = (min_quantity_oil - check_result['Ср. запас сырья, тыс.баррелей']) / min_quantity_oil * 100 \n",
        "check_result"
      ],
      "execution_count": 47,
      "outputs": [
        {
          "output_type": "execute_result",
          "data": {
            "text/html": [
              "<div>\n",
              "<style scoped>\n",
              "    .dataframe tbody tr th:only-of-type {\n",
              "        vertical-align: middle;\n",
              "    }\n",
              "\n",
              "    .dataframe tbody tr th {\n",
              "        vertical-align: top;\n",
              "    }\n",
              "\n",
              "    .dataframe thead th {\n",
              "        text-align: right;\n",
              "    }\n",
              "</style>\n",
              "<table border=\"1\" class=\"dataframe\">\n",
              "  <thead>\n",
              "    <tr style=\"text-align: right;\">\n",
              "      <th></th>\n",
              "      <th>Ср. запас сырья, тыс.баррелей</th>\n",
              "      <th>Разница между ср. и безубыточным запасами, %</th>\n",
              "    </tr>\n",
              "  </thead>\n",
              "  <tbody>\n",
              "    <tr>\n",
              "      <th>1-й регион</th>\n",
              "      <td>92.500</td>\n",
              "      <td>16.749917</td>\n",
              "    </tr>\n",
              "    <tr>\n",
              "      <th>2-й регион</th>\n",
              "      <td>68.825</td>\n",
              "      <td>38.057438</td>\n",
              "    </tr>\n",
              "    <tr>\n",
              "      <th>3-й регион</th>\n",
              "      <td>95.000</td>\n",
              "      <td>14.499914</td>\n",
              "    </tr>\n",
              "    <tr>\n",
              "      <th>Мин. безубыточный запас сырья</th>\n",
              "      <td>111.111</td>\n",
              "      <td>0.000000</td>\n",
              "    </tr>\n",
              "  </tbody>\n",
              "</table>\n",
              "</div>"
            ],
            "text/plain": [
              "                               Ср. запас сырья, тыс.баррелей  Разница между ср. и безубыточным запасами, %\n",
              "1-й регион                                            92.500                                     16.749917\n",
              "2-й регион                                            68.825                                     38.057438\n",
              "3-й регион                                            95.000                                     14.499914\n",
              "Мин. безубыточный запас сырья                        111.111                                      0.000000"
            ]
          },
          "metadata": {
            "tags": []
          },
          "execution_count": 47
        }
      ]
    },
    {
      "cell_type": "markdown",
      "metadata": {
        "id": "0xOiVZFPcP7r"
      },
      "source": [
        "### Вывод по п.3"
      ]
    },
    {
      "cell_type": "markdown",
      "metadata": {
        "id": "lOxsttkJcP7r"
      },
      "source": [
        "Т.к. в регионе планируется разработать ***200 скважин*** и на каждый регион выделен бюджета в размере ***10 млрд.руб.***, \n",
        "минимальный объем необходимого запаса сырья в скважине для безубыточной разработки составит - ***111.11 тыс.баррелей***.\n",
        "Безубыточной разработкой будем считать такую разработку, которая полностью покрывает расход, т.е. доход должен быть больше или равен нулю.\n",
        "\n",
        "При этом средний запас сырья по всем скважинам в каждом регионах меньше необходимого безубыточного запаса сырья.\n",
        "Ближе всего к безубыточному запасу сырья находится 1-й регион (на 16.7 тыс.баррелей меньше), \n",
        "больше всего разница между безубыточным и средним запасом сырья во 2-м регионе (на 38.1 тыс.баррелей меньше).\n",
        "Данная разница не критична, она показывает лишь то, что в регионах есть так же скважины с небольшим запасом сырья,\n",
        "но при дальнейших расчетах мы будем учитывать только скважины с максимальным запасом сырья."
      ]
    },
    {
      "cell_type": "markdown",
      "metadata": {
        "id": "tRNktrUTcP7s"
      },
      "source": [
        "<a id='4-bullet'></a>\n",
        "# 4. Расчет прибыли по предсказаниям модели"
      ]
    },
    {
      "cell_type": "code",
      "metadata": {
        "id": "0U_dI2LxcP7s",
        "colab": {
          "base_uri": "https://localhost:8080/"
        },
        "outputId": "e398b78a-54b7-4b83-bde4-60ee45f896d2"
      },
      "source": [
        "# С помощью ф-ии определим доход от разработки скважин в 1-ом регионе\n",
        "# Ф-ия выбирает 200 скважин с ниабольшим объемом сырья, далее суммирует этот объем, \n",
        "# умножает общий объем на прибыль от 1-го барреля и вычитает общий бюджет на регион. \n",
        "# Ф-ия выдает итоговое значение в миллиардах рублей \n",
        "\n",
        "def point_profit(t_valid, region_predict, point_count):\n",
        "    profitable_point = region_predict.sort_values(ascending=False)\n",
        "    selected_point = t_valid[profitable_point.index][:point_count]\n",
        "    piont_product_sum = sum(selected_point)\n",
        "    profit_of_point = (piont_product_sum * 1000 * ONE_BARREL_PROFIT - REGION_BUDGET) / 10**9\n",
        "    return profit_of_point\n",
        "\n",
        "target_valid_1 = target_valid_1.reset_index(drop=True)\n",
        "region_1_profit = point_profit(target_valid_1, region_predictions_1, REGION_POINT)\n",
        "print('Прибыль от разработки скважин в 1-ом регионе:', round(region_1_profit, 3), 'млрд.руб.')"
      ],
      "execution_count": 49,
      "outputs": [
        {
          "output_type": "stream",
          "text": [
            "Прибыль от разработки скважин в 1-ом регионе: 3.321 млрд.руб.\n"
          ],
          "name": "stdout"
        }
      ]
    },
    {
      "cell_type": "code",
      "metadata": {
        "id": "ZPmWK_WOcP7s",
        "colab": {
          "base_uri": "https://localhost:8080/"
        },
        "outputId": "03a4fb00-9e48-4b90-a1ee-776b38d93b3a"
      },
      "source": [
        "# С помощью ф-ии определим доход от разработки скважин в 2-ом регионе\n",
        "target_valid_2 = target_valid_2.reset_index(drop=True)\n",
        "region_2_profit = point_profit(target_valid_2, region_predictions_2, REGION_POINT)\n",
        "print('Прибыль от разработки скважин в 2-ом регионе:', round(region_2_profit, 3), 'млрд.руб.')"
      ],
      "execution_count": 50,
      "outputs": [
        {
          "output_type": "stream",
          "text": [
            "Прибыль от разработки скважин в 2-ом регионе: 2.415 млрд.руб.\n"
          ],
          "name": "stdout"
        }
      ]
    },
    {
      "cell_type": "code",
      "metadata": {
        "id": "DliF1GuOcP7s",
        "colab": {
          "base_uri": "https://localhost:8080/"
        },
        "outputId": "6e774502-848b-4a84-8de1-fc8d3ce55195"
      },
      "source": [
        "# С помощью ф-ии определим доход от разработки скважин в 3-м регионе\n",
        "target_valid_3 = target_valid_3.reset_index(drop=True)\n",
        "region_3_profit = point_profit(target_valid_3, region_predictions_3, REGION_POINT)\n",
        "print('Прибыль от разработки скважин в 3-м регионе:', round(region_3_profit, 3), 'млрд.руб.')"
      ],
      "execution_count": 51,
      "outputs": [
        {
          "output_type": "stream",
          "text": [
            "Прибыль от разработки скважин в 3-м регионе: 2.71 млрд.руб.\n"
          ],
          "name": "stdout"
        }
      ]
    },
    {
      "cell_type": "code",
      "metadata": {
        "id": "5o0vp4A2cP7t",
        "colab": {
          "base_uri": "https://localhost:8080/",
          "height": 142
        },
        "outputId": "3bc9c534-e749-48f7-9942-4bea65714eef"
      },
      "source": [
        "# Сведем прибыли от разработки 200 лучших (наибольших по запасам сырья) скважин в трех регионах в общую таблицу \n",
        "region_profit = {}\n",
        "region_profit['1-й регион'] = region_1_profit\n",
        "region_profit['2-й регион'] = region_2_profit\n",
        "region_profit['3-й регион'] = region_3_profit\n",
        "region_profit = pd.DataFrame.from_dict(region_profit, orient = 'index', \n",
        "                                       columns=['Прибыль от разработки скважин, млрд.руб.'])\n",
        "region_profit"
      ],
      "execution_count": 52,
      "outputs": [
        {
          "output_type": "execute_result",
          "data": {
            "text/html": [
              "<div>\n",
              "<style scoped>\n",
              "    .dataframe tbody tr th:only-of-type {\n",
              "        vertical-align: middle;\n",
              "    }\n",
              "\n",
              "    .dataframe tbody tr th {\n",
              "        vertical-align: top;\n",
              "    }\n",
              "\n",
              "    .dataframe thead th {\n",
              "        text-align: right;\n",
              "    }\n",
              "</style>\n",
              "<table border=\"1\" class=\"dataframe\">\n",
              "  <thead>\n",
              "    <tr style=\"text-align: right;\">\n",
              "      <th></th>\n",
              "      <th>Прибыль от разработки скважин, млрд.руб.</th>\n",
              "    </tr>\n",
              "  </thead>\n",
              "  <tbody>\n",
              "    <tr>\n",
              "      <th>1-й регион</th>\n",
              "      <td>3.320826</td>\n",
              "    </tr>\n",
              "    <tr>\n",
              "      <th>2-й регион</th>\n",
              "      <td>2.415087</td>\n",
              "    </tr>\n",
              "    <tr>\n",
              "      <th>3-й регион</th>\n",
              "      <td>2.710350</td>\n",
              "    </tr>\n",
              "  </tbody>\n",
              "</table>\n",
              "</div>"
            ],
            "text/plain": [
              "            Прибыль от разработки скважин, млрд.руб.\n",
              "1-й регион                                  3.320826\n",
              "2-й регион                                  2.415087\n",
              "3-й регион                                  2.710350"
            ]
          },
          "metadata": {
            "tags": []
          },
          "execution_count": 52
        }
      ]
    },
    {
      "cell_type": "code",
      "metadata": {
        "id": "j58VJ0LOcP7t",
        "colab": {
          "base_uri": "https://localhost:8080/",
          "height": 421
        },
        "outputId": "b5976263-02bc-4b85-897c-d9c2b1439e7d"
      },
      "source": [
        "region_profit.plot(kind='barh', grid=True, alpha=0.7, figsize=(10, 6), legend=True, \n",
        "                   title='Прибыль от разработки 200 скважин с наибольшим запасом в регионе').set_xlabel('Прибыль, млрд.руб.')"
      ],
      "execution_count": 53,
      "outputs": [
        {
          "output_type": "execute_result",
          "data": {
            "text/plain": [
              "Text(0.5, 0, 'Прибыль, млрд.руб.')"
            ]
          },
          "metadata": {
            "tags": []
          },
          "execution_count": 53
        },
        {
          "output_type": "display_data",
          "data": {
            "image/png": "[encoded data removed]",
            "text/plain": [
              "<Figure size 720x432 with 1 Axes>"
            ]
          },
          "metadata": {
            "tags": [],
            "needs_background": "light"
          }
        }
      ]
    },
    {
      "cell_type": "markdown",
      "metadata": {
        "id": "zabGdVjOcP7t"
      },
      "source": [
        "### Вывод по п.4"
      ]
    },
    {
      "cell_type": "markdown",
      "metadata": {
        "id": "cR3lUA-ZcP7t"
      },
      "source": [
        "Результаты расчета суммарной прибыли от разработки 200 скважинам с наибольшим запасом сырья в каждом регионе несколько отличаются от оценки регионов по среднему запасу сырья проведенной в п.2.4. Если по средему запасу сырья в скважине на первом месте был 3-й регион, то по объему прибыли от 200 скважин с наибольшим запасом сырья лидирует 1-й регион, это вероятно говорит о том, что в 1-ом регионе дельта между запасами сырья в скважинах больше чем в 3-м регионе. При этом и по среднему запасу сырья и по прибыли последнее место занимает 2-й регион."
      ]
    },
    {
      "cell_type": "markdown",
      "metadata": {
        "id": "6gWWZ1xqcP7t"
      },
      "source": [
        "<a id='5-bullet'></a>\n",
        "## 5.Расчет рисков и прибыли для каждого региона"
      ]
    },
    {
      "cell_type": "code",
      "metadata": {
        "id": "77O5UQhLcP7t",
        "colab": {
          "base_uri": "https://localhost:8080/"
        },
        "outputId": "e875df12-0bce-4f43-dfd6-7d6dfd67464e"
      },
      "source": [
        "# С помощью метода Bootstrap определим для 1-го региона распределение планируемой прибыли \n",
        "# от разработки 200 скважин с наибольшим объемом \n",
        "# Для чего создадим ф-ию values_profit, которая перебирает 1000 выборок состоящих из 500 значений (запас 500 скважин)\n",
        "# после чего передает полученную выборку ф-ии point_profit для расчета распределения прибыли \n",
        "state = np.random.RandomState(12345)\n",
        "\n",
        "def values_profit(t_valid, r_predict):\n",
        "    values = []\n",
        "    for i in range(1000):        \n",
        "        target_subsample = t_valid.sample(n=500, replace=True, random_state=state)\n",
        "        predict_subsample = r_predict[target_subsample.index]\n",
        "        values.append(point_profit(target_subsample, predict_subsample, REGION_POINT))\n",
        "    return values\n",
        "        \n",
        "values_1 = pd.Series(values_profit(target_valid_1, region_predictions_1))\n",
        "values_1.head()"
      ],
      "execution_count": 54,
      "outputs": [
        {
          "output_type": "execute_result",
          "data": {
            "text/plain": [
              "0    0.585089\n",
              "1    0.536393\n",
              "2    0.211079\n",
              "3    0.265280\n",
              "4    0.271993\n",
              "dtype: float64"
            ]
          },
          "metadata": {
            "tags": []
          },
          "execution_count": 54
        }
      ]
    },
    {
      "cell_type": "code",
      "metadata": {
        "id": "skv1vSR5cP7u"
      },
      "source": [
        "# С помощью ф-ии propertys найдем для 1-го региона среднее значение прибыли от разработки 200 скважин maen_1; \n",
        "# риск убытков loss_1; 95-% доверительный интервал прибыли (lower_1; upper_1) \n",
        "def propertys(val):\n",
        "    maen = round(val.mean(), 3)\n",
        "    lower = round(val.quantile(0.025), 3)\n",
        "    upper = round(val.quantile(0.975), 3)\n",
        "    loss = (val[val < 0].count() / len(val)) * 100\n",
        "    return maen, lower, upper, loss\n",
        "\n",
        "maen_1, lower_1, upper_1, loss_1 = propertys(values_1)"
      ],
      "execution_count": 55,
      "outputs": []
    },
    {
      "cell_type": "code",
      "metadata": {
        "id": "PYXqNsE3cP7u",
        "colab": {
          "base_uri": "https://localhost:8080/"
        },
        "outputId": "18ceb6b0-6ade-4c29-c51f-8d9fac54ebb2"
      },
      "source": [
        "# С помощью ф-ию values_profit определим распределение планируемой прибыли \n",
        "# от разработки 200 скважин с наибольшим объемом для 2-го региона  \n",
        "values_2 = pd.Series(values_profit(target_valid_2, region_predictions_2))\n",
        "values_2.head()"
      ],
      "execution_count": 56,
      "outputs": [
        {
          "output_type": "execute_result",
          "data": {
            "text/plain": [
              "0    0.392099\n",
              "1    0.128123\n",
              "2    0.129554\n",
              "3    0.510590\n",
              "4    0.551206\n",
              "dtype: float64"
            ]
          },
          "metadata": {
            "tags": []
          },
          "execution_count": 56
        }
      ]
    },
    {
      "cell_type": "code",
      "metadata": {
        "id": "Q06hPJXlcP7u"
      },
      "source": [
        "# С помощью ф-ии propertys найдем для 2-го региона среднее значение прибыли от разработки 200 скважин maen_2; \n",
        "# риск убытков loss_2; 95-% доверительный интервал прибыли (lower_2; upper_2) \n",
        "maen_2, lower_2, upper_2, loss_2 = propertys(values_2)"
      ],
      "execution_count": 57,
      "outputs": []
    },
    {
      "cell_type": "code",
      "metadata": {
        "id": "7lIbPbY9cP7u",
        "colab": {
          "base_uri": "https://localhost:8080/"
        },
        "outputId": "259de746-9e1c-471b-c5dc-0e33cfd1c075"
      },
      "source": [
        "# С помощью ф-ию values_profit определим распределение планируемой прибыли \n",
        "# от разработки 200 скважин с наибольшим объемом для 3-го региона  \n",
        "values_3 = pd.Series(values_profit(target_valid_3, region_predictions_3))\n",
        "values_3.head()"
      ],
      "execution_count": 58,
      "outputs": [
        {
          "output_type": "execute_result",
          "data": {
            "text/plain": [
              "0    0.745340\n",
              "1    0.573671\n",
              "2    0.242930\n",
              "3    0.415386\n",
              "4    0.545956\n",
              "dtype: float64"
            ]
          },
          "metadata": {
            "tags": []
          },
          "execution_count": 58
        }
      ]
    },
    {
      "cell_type": "code",
      "metadata": {
        "id": "RJUFia0zcP7u"
      },
      "source": [
        "# С помощью ф-ии propertys найдем для 3-го региона среднее значение прибыли от разработки 200 скважин maen_3; \n",
        "# риск убытков loss_3; 95-% доверительный интервал прибыли (lower_3; upper_3) \n",
        "maen_3, lower_3, upper_3, loss_3 = propertys(values_3)"
      ],
      "execution_count": 59,
      "outputs": []
    },
    {
      "cell_type": "code",
      "metadata": {
        "id": "52a3iQsvcP7v",
        "colab": {
          "base_uri": "https://localhost:8080/",
          "height": 142
        },
        "outputId": "71d4a27e-ee94-49f0-c6ed-a1b24a8ea255"
      },
      "source": [
        "# Сведем все найденные характеристики по каждому региону в общую таблицу для анализа\n",
        "lst = {'1-й регион':[maen_1, [lower_1, upper_1], loss_1], '2-й регион':[maen_2, [lower_2, upper_2], loss_2], \n",
        "       '3-й регион':[maen_3, [lower_3, upper_3], loss_3]}\n",
        "result_data = pd.DataFrame(lst, index=['Средняя прибыль (млрд.руб.)', '95-% доверительный интервал', 'Риск убытков (%)'])\n",
        "result_data"
      ],
      "execution_count": 60,
      "outputs": [
        {
          "output_type": "execute_result",
          "data": {
            "text/html": [
              "<div>\n",
              "<style scoped>\n",
              "    .dataframe tbody tr th:only-of-type {\n",
              "        vertical-align: middle;\n",
              "    }\n",
              "\n",
              "    .dataframe tbody tr th {\n",
              "        vertical-align: top;\n",
              "    }\n",
              "\n",
              "    .dataframe thead th {\n",
              "        text-align: right;\n",
              "    }\n",
              "</style>\n",
              "<table border=\"1\" class=\"dataframe\">\n",
              "  <thead>\n",
              "    <tr style=\"text-align: right;\">\n",
              "      <th></th>\n",
              "      <th>1-й регион</th>\n",
              "      <th>2-й регион</th>\n",
              "      <th>3-й регион</th>\n",
              "    </tr>\n",
              "  </thead>\n",
              "  <tbody>\n",
              "    <tr>\n",
              "      <th>Средняя прибыль (млрд.руб.)</th>\n",
              "      <td>0.426</td>\n",
              "      <td>0.518</td>\n",
              "      <td>0.42</td>\n",
              "    </tr>\n",
              "    <tr>\n",
              "      <th>95-% доверительный интервал</th>\n",
              "      <td>[-0.102, 0.948]</td>\n",
              "      <td>[0.128, 0.954]</td>\n",
              "      <td>[-0.116, 0.99]</td>\n",
              "    </tr>\n",
              "    <tr>\n",
              "      <th>Риск убытков (%)</th>\n",
              "      <td>6</td>\n",
              "      <td>0.3</td>\n",
              "      <td>6.2</td>\n",
              "    </tr>\n",
              "  </tbody>\n",
              "</table>\n",
              "</div>"
            ],
            "text/plain": [
              "                                  1-й регион      2-й регион      3-й регион\n",
              "Средняя прибыль (млрд.руб.)            0.426           0.518            0.42\n",
              "95-% доверительный интервал  [-0.102, 0.948]  [0.128, 0.954]  [-0.116, 0.99]\n",
              "Риск убытков (%)                           6             0.3             6.2"
            ]
          },
          "metadata": {
            "tags": []
          },
          "execution_count": 60
        }
      ]
    },
    {
      "cell_type": "markdown",
      "metadata": {
        "id": "twpTsCcocP7v"
      },
      "source": [
        "### Вывод по п.5"
      ]
    },
    {
      "cell_type": "markdown",
      "metadata": {
        "id": "X87zEDJ4cP7v"
      },
      "source": [
        "1-й и 3-й регионы имеют схожие значения средней прибыли и вероятности убытков. Но наибольший объем средней прибыли на 200 скважин получен для 2-го региона. Учитываю это, а также то, что вероятность убытков в данном регионе составляет 0.3%,\n",
        "что не превышает вероятность убытков 2.5% по условию, 2-й регион полностью соответсвует условиям задачи."
      ]
    },
    {
      "cell_type": "markdown",
      "metadata": {
        "id": "cM6ooWIBcP7v"
      },
      "source": [
        "<a id='6-bullet'></a>\n",
        "## 6. Общий вывод"
      ]
    },
    {
      "cell_type": "markdown",
      "metadata": {
        "id": "3IbeVsStcP7v"
      },
      "source": [
        "Согласно выполненному исследованию подходящим регионом для ведения разработки нефти является 2-й регион. Несмотря на то, что  регион не является лидером по скважинам с наибольшим содержанием сырья, средний доход от разработки скважин в данном регионе выше, чем в остальных регионах. Более того вероятность получения убытков во 2-м регионе меньше чем в 1-м и 3-м регионах.\n",
        "Кроме того во рвемя исследования была обнаружена сильная корреляция между признакми указанными в столбце **f2** и целевыми признаками для 2-го региона, данную зависимость нужно учитывать как дополнительный фактор при оценке запасов по скважинам, т.к. данные признаки содержать практически те же данные, что должна предсказать модель.\n",
        "\n",
        "Таким образом добывающей компании можно рекомендовать 2-й регион для разработки сырья. Но необходимо уточнить исходные данные, т.к. один из признаков требует проверки."
      ]
    },
    {
      "cell_type": "code",
      "metadata": {
        "id": "l7S3fZtWcP7w"
      },
      "source": [
        ""
      ],
      "execution_count": 60,
      "outputs": []
    }
  ]
}